{
  "nbformat": 4,
  "nbformat_minor": 0,
  "metadata": {
    "colab": {
      "name": "Entregable_P1_Curación_de_datos-V01.ipynb",
      "provenance": [],
      "collapsed_sections": [],
      "include_colab_link": true
    },
    "kernelspec": {
      "display_name": "Python 3",
      "language": "python",
      "name": "python3"
    }
  },
  "cells": [
    {
      "cell_type": "markdown",
      "metadata": {
        "id": "view-in-github",
        "colab_type": "text"
      },
      "source": [
        "<a href=\"https://colab.research.google.com/github/exsantucho/AnalisisYCuracion/blob/master/Entregable_P1_Curaci%C3%B3n_de_datos_V01.ipynb\" target=\"_parent\"><img src=\"https://colab.research.google.com/assets/colab-badge.svg\" alt=\"Open In Colab\"/></a>"
      ]
    },
    {
      "cell_type": "markdown",
      "metadata": {
        "id": "zO4bRoxr2Apy"
      },
      "source": [
        "**Diplomatura en Ciencia de Datos, Aprendizaje Automático y sus Aplicaciones**\n",
        "\n",
        "**Exploración y Curación de Datos**\n",
        "\n",
        "*Edición 2021*\n",
        "\n",
        "----\n",
        "\n",
        "# Trabajo práctico entregable - parte 1\n",
        "\n",
        "En esta notebook, vamos a cargar el conjunto de datos de [la compentencia Kaggle](https://www.kaggle.com/dansbecker/melbourne-housing-snapshot) sobre estimación de precios de ventas de propiedades en Melbourne, Australia.\n",
        "\n",
        "Utilizaremos el conjunto de datos reducido producido por [DanB](https://www.kaggle.com/dansbecker). Hemos subido una copia a un servidor de la Universidad Nacional de Córdoba para facilitar su acceso remoto."
      ]
    },
    {
      "cell_type": "markdown",
      "metadata": {
        "id": "pLqS2NW9Gyx6"
      },
      "source": [
        "<font color='orange'>\n",
        "Grupo: Nicolás Carrión, Génesis Núñez Sanchez, Exequiel Santucho, Magdalena Sella\n",
        "</font>"
      ]
    },
    {
      "cell_type": "code",
      "metadata": {
        "id": "4udjxjk1EtVU"
      },
      "source": [
        "import matplotlib.pyplot as plt\n",
        "import numpy as np\n",
        "import pandas as pd\n",
        "\n",
        "import seaborn as sns\n",
        "sns.set_context('talk')"
      ],
      "execution_count": 123,
      "outputs": []
    },
    {
      "cell_type": "code",
      "metadata": {
        "colab": {
          "base_uri": "https://localhost:8080/",
          "height": 35
        },
        "id": "3XdIsB8hISis",
        "outputId": "200d133a-d8e0-4210-c930-21ef56d0cb50"
      },
      "source": [
        "import plotly as plt\n",
        "plt.__version__\n",
        "# Make sure it's 4.14.3"
      ],
      "execution_count": 124,
      "outputs": [
        {
          "output_type": "execute_result",
          "data": {
            "application/vnd.google.colaboratory.intrinsic+json": {
              "type": "string"
            },
            "text/plain": [
              "'4.4.1'"
            ]
          },
          "metadata": {
            "tags": []
          },
          "execution_count": 124
        }
      ]
    },
    {
      "cell_type": "code",
      "metadata": {
        "colab": {
          "base_uri": "https://localhost:8080/",
          "height": 595
        },
        "id": "_qeFN3GnEvMk",
        "outputId": "982b0379-86a4-4de5-ea2a-43ee2330509b"
      },
      "source": [
        "melb_df = pd.read_csv('https://cs.famaf.unc.edu.ar/~mteruel/datasets/diplodatos/melb_data.csv')\n",
        "\n",
        "mebl_df_respaldo = melb_df\n",
        "melb_df[:10]"
      ],
      "execution_count": 125,
      "outputs": [
        {
          "output_type": "execute_result",
          "data": {
            "text/html": [
              "<div>\n",
              "<style scoped>\n",
              "    .dataframe tbody tr th:only-of-type {\n",
              "        vertical-align: middle;\n",
              "    }\n",
              "\n",
              "    .dataframe tbody tr th {\n",
              "        vertical-align: top;\n",
              "    }\n",
              "\n",
              "    .dataframe thead th {\n",
              "        text-align: right;\n",
              "    }\n",
              "</style>\n",
              "<table border=\"1\" class=\"dataframe\">\n",
              "  <thead>\n",
              "    <tr style=\"text-align: right;\">\n",
              "      <th></th>\n",
              "      <th>Suburb</th>\n",
              "      <th>Address</th>\n",
              "      <th>Rooms</th>\n",
              "      <th>Type</th>\n",
              "      <th>Price</th>\n",
              "      <th>Method</th>\n",
              "      <th>SellerG</th>\n",
              "      <th>Date</th>\n",
              "      <th>Distance</th>\n",
              "      <th>Postcode</th>\n",
              "      <th>Bedroom2</th>\n",
              "      <th>Bathroom</th>\n",
              "      <th>Car</th>\n",
              "      <th>Landsize</th>\n",
              "      <th>BuildingArea</th>\n",
              "      <th>YearBuilt</th>\n",
              "      <th>CouncilArea</th>\n",
              "      <th>Lattitude</th>\n",
              "      <th>Longtitude</th>\n",
              "      <th>Regionname</th>\n",
              "      <th>Propertycount</th>\n",
              "    </tr>\n",
              "  </thead>\n",
              "  <tbody>\n",
              "    <tr>\n",
              "      <th>0</th>\n",
              "      <td>Abbotsford</td>\n",
              "      <td>85 Turner St</td>\n",
              "      <td>2</td>\n",
              "      <td>h</td>\n",
              "      <td>1480000.0</td>\n",
              "      <td>S</td>\n",
              "      <td>Biggin</td>\n",
              "      <td>3/12/2016</td>\n",
              "      <td>2.5</td>\n",
              "      <td>3067.0</td>\n",
              "      <td>2.0</td>\n",
              "      <td>1.0</td>\n",
              "      <td>1.0</td>\n",
              "      <td>202.0</td>\n",
              "      <td>NaN</td>\n",
              "      <td>NaN</td>\n",
              "      <td>Yarra</td>\n",
              "      <td>-37.7996</td>\n",
              "      <td>144.9984</td>\n",
              "      <td>Northern Metropolitan</td>\n",
              "      <td>4019.0</td>\n",
              "    </tr>\n",
              "    <tr>\n",
              "      <th>1</th>\n",
              "      <td>Abbotsford</td>\n",
              "      <td>25 Bloomburg St</td>\n",
              "      <td>2</td>\n",
              "      <td>h</td>\n",
              "      <td>1035000.0</td>\n",
              "      <td>S</td>\n",
              "      <td>Biggin</td>\n",
              "      <td>4/02/2016</td>\n",
              "      <td>2.5</td>\n",
              "      <td>3067.0</td>\n",
              "      <td>2.0</td>\n",
              "      <td>1.0</td>\n",
              "      <td>0.0</td>\n",
              "      <td>156.0</td>\n",
              "      <td>79.0</td>\n",
              "      <td>1900.0</td>\n",
              "      <td>Yarra</td>\n",
              "      <td>-37.8079</td>\n",
              "      <td>144.9934</td>\n",
              "      <td>Northern Metropolitan</td>\n",
              "      <td>4019.0</td>\n",
              "    </tr>\n",
              "    <tr>\n",
              "      <th>2</th>\n",
              "      <td>Abbotsford</td>\n",
              "      <td>5 Charles St</td>\n",
              "      <td>3</td>\n",
              "      <td>h</td>\n",
              "      <td>1465000.0</td>\n",
              "      <td>SP</td>\n",
              "      <td>Biggin</td>\n",
              "      <td>4/03/2017</td>\n",
              "      <td>2.5</td>\n",
              "      <td>3067.0</td>\n",
              "      <td>3.0</td>\n",
              "      <td>2.0</td>\n",
              "      <td>0.0</td>\n",
              "      <td>134.0</td>\n",
              "      <td>150.0</td>\n",
              "      <td>1900.0</td>\n",
              "      <td>Yarra</td>\n",
              "      <td>-37.8093</td>\n",
              "      <td>144.9944</td>\n",
              "      <td>Northern Metropolitan</td>\n",
              "      <td>4019.0</td>\n",
              "    </tr>\n",
              "    <tr>\n",
              "      <th>3</th>\n",
              "      <td>Abbotsford</td>\n",
              "      <td>40 Federation La</td>\n",
              "      <td>3</td>\n",
              "      <td>h</td>\n",
              "      <td>850000.0</td>\n",
              "      <td>PI</td>\n",
              "      <td>Biggin</td>\n",
              "      <td>4/03/2017</td>\n",
              "      <td>2.5</td>\n",
              "      <td>3067.0</td>\n",
              "      <td>3.0</td>\n",
              "      <td>2.0</td>\n",
              "      <td>1.0</td>\n",
              "      <td>94.0</td>\n",
              "      <td>NaN</td>\n",
              "      <td>NaN</td>\n",
              "      <td>Yarra</td>\n",
              "      <td>-37.7969</td>\n",
              "      <td>144.9969</td>\n",
              "      <td>Northern Metropolitan</td>\n",
              "      <td>4019.0</td>\n",
              "    </tr>\n",
              "    <tr>\n",
              "      <th>4</th>\n",
              "      <td>Abbotsford</td>\n",
              "      <td>55a Park St</td>\n",
              "      <td>4</td>\n",
              "      <td>h</td>\n",
              "      <td>1600000.0</td>\n",
              "      <td>VB</td>\n",
              "      <td>Nelson</td>\n",
              "      <td>4/06/2016</td>\n",
              "      <td>2.5</td>\n",
              "      <td>3067.0</td>\n",
              "      <td>3.0</td>\n",
              "      <td>1.0</td>\n",
              "      <td>2.0</td>\n",
              "      <td>120.0</td>\n",
              "      <td>142.0</td>\n",
              "      <td>2014.0</td>\n",
              "      <td>Yarra</td>\n",
              "      <td>-37.8072</td>\n",
              "      <td>144.9941</td>\n",
              "      <td>Northern Metropolitan</td>\n",
              "      <td>4019.0</td>\n",
              "    </tr>\n",
              "    <tr>\n",
              "      <th>5</th>\n",
              "      <td>Abbotsford</td>\n",
              "      <td>129 Charles St</td>\n",
              "      <td>2</td>\n",
              "      <td>h</td>\n",
              "      <td>941000.0</td>\n",
              "      <td>S</td>\n",
              "      <td>Jellis</td>\n",
              "      <td>7/05/2016</td>\n",
              "      <td>2.5</td>\n",
              "      <td>3067.0</td>\n",
              "      <td>2.0</td>\n",
              "      <td>1.0</td>\n",
              "      <td>0.0</td>\n",
              "      <td>181.0</td>\n",
              "      <td>NaN</td>\n",
              "      <td>NaN</td>\n",
              "      <td>Yarra</td>\n",
              "      <td>-37.8041</td>\n",
              "      <td>144.9953</td>\n",
              "      <td>Northern Metropolitan</td>\n",
              "      <td>4019.0</td>\n",
              "    </tr>\n",
              "    <tr>\n",
              "      <th>6</th>\n",
              "      <td>Abbotsford</td>\n",
              "      <td>124 Yarra St</td>\n",
              "      <td>3</td>\n",
              "      <td>h</td>\n",
              "      <td>1876000.0</td>\n",
              "      <td>S</td>\n",
              "      <td>Nelson</td>\n",
              "      <td>7/05/2016</td>\n",
              "      <td>2.5</td>\n",
              "      <td>3067.0</td>\n",
              "      <td>4.0</td>\n",
              "      <td>2.0</td>\n",
              "      <td>0.0</td>\n",
              "      <td>245.0</td>\n",
              "      <td>210.0</td>\n",
              "      <td>1910.0</td>\n",
              "      <td>Yarra</td>\n",
              "      <td>-37.8024</td>\n",
              "      <td>144.9993</td>\n",
              "      <td>Northern Metropolitan</td>\n",
              "      <td>4019.0</td>\n",
              "    </tr>\n",
              "    <tr>\n",
              "      <th>7</th>\n",
              "      <td>Abbotsford</td>\n",
              "      <td>98 Charles St</td>\n",
              "      <td>2</td>\n",
              "      <td>h</td>\n",
              "      <td>1636000.0</td>\n",
              "      <td>S</td>\n",
              "      <td>Nelson</td>\n",
              "      <td>8/10/2016</td>\n",
              "      <td>2.5</td>\n",
              "      <td>3067.0</td>\n",
              "      <td>2.0</td>\n",
              "      <td>1.0</td>\n",
              "      <td>2.0</td>\n",
              "      <td>256.0</td>\n",
              "      <td>107.0</td>\n",
              "      <td>1890.0</td>\n",
              "      <td>Yarra</td>\n",
              "      <td>-37.8060</td>\n",
              "      <td>144.9954</td>\n",
              "      <td>Northern Metropolitan</td>\n",
              "      <td>4019.0</td>\n",
              "    </tr>\n",
              "    <tr>\n",
              "      <th>8</th>\n",
              "      <td>Abbotsford</td>\n",
              "      <td>6/241 Nicholson St</td>\n",
              "      <td>1</td>\n",
              "      <td>u</td>\n",
              "      <td>300000.0</td>\n",
              "      <td>S</td>\n",
              "      <td>Biggin</td>\n",
              "      <td>8/10/2016</td>\n",
              "      <td>2.5</td>\n",
              "      <td>3067.0</td>\n",
              "      <td>1.0</td>\n",
              "      <td>1.0</td>\n",
              "      <td>1.0</td>\n",
              "      <td>0.0</td>\n",
              "      <td>NaN</td>\n",
              "      <td>NaN</td>\n",
              "      <td>Yarra</td>\n",
              "      <td>-37.8008</td>\n",
              "      <td>144.9973</td>\n",
              "      <td>Northern Metropolitan</td>\n",
              "      <td>4019.0</td>\n",
              "    </tr>\n",
              "    <tr>\n",
              "      <th>9</th>\n",
              "      <td>Abbotsford</td>\n",
              "      <td>10 Valiant St</td>\n",
              "      <td>2</td>\n",
              "      <td>h</td>\n",
              "      <td>1097000.0</td>\n",
              "      <td>S</td>\n",
              "      <td>Biggin</td>\n",
              "      <td>8/10/2016</td>\n",
              "      <td>2.5</td>\n",
              "      <td>3067.0</td>\n",
              "      <td>3.0</td>\n",
              "      <td>1.0</td>\n",
              "      <td>2.0</td>\n",
              "      <td>220.0</td>\n",
              "      <td>75.0</td>\n",
              "      <td>1900.0</td>\n",
              "      <td>Yarra</td>\n",
              "      <td>-37.8010</td>\n",
              "      <td>144.9989</td>\n",
              "      <td>Northern Metropolitan</td>\n",
              "      <td>4019.0</td>\n",
              "    </tr>\n",
              "  </tbody>\n",
              "</table>\n",
              "</div>"
            ],
            "text/plain": [
              "       Suburb             Address  ...             Regionname Propertycount\n",
              "0  Abbotsford        85 Turner St  ...  Northern Metropolitan        4019.0\n",
              "1  Abbotsford     25 Bloomburg St  ...  Northern Metropolitan        4019.0\n",
              "2  Abbotsford        5 Charles St  ...  Northern Metropolitan        4019.0\n",
              "3  Abbotsford    40 Federation La  ...  Northern Metropolitan        4019.0\n",
              "4  Abbotsford         55a Park St  ...  Northern Metropolitan        4019.0\n",
              "5  Abbotsford      129 Charles St  ...  Northern Metropolitan        4019.0\n",
              "6  Abbotsford        124 Yarra St  ...  Northern Metropolitan        4019.0\n",
              "7  Abbotsford       98 Charles St  ...  Northern Metropolitan        4019.0\n",
              "8  Abbotsford  6/241 Nicholson St  ...  Northern Metropolitan        4019.0\n",
              "9  Abbotsford       10 Valiant St  ...  Northern Metropolitan        4019.0\n",
              "\n",
              "[10 rows x 21 columns]"
            ]
          },
          "metadata": {
            "tags": []
          },
          "execution_count": 125
        }
      ]
    },
    {
      "cell_type": "markdown",
      "metadata": {
        "id": "fzjI3e9CkNu6"
      },
      "source": [
        "## Ejercicio 1: \n",
        "1. Eliminar los valores extremos que no sean relevantes para la predicción de valores de las propiedades."
      ]
    },
    {
      "cell_type": "code",
      "metadata": {
        "colab": {
          "base_uri": "https://localhost:8080/",
          "height": 312
        },
        "id": "CMWHO3iMDV-6",
        "outputId": "d8c82c66-01d4-404c-a679-e7017289a49c"
      },
      "source": [
        "print('Cantidad de registros: ', len(melb_df))\n",
        "melb_df.describe().round(1)"
      ],
      "execution_count": 126,
      "outputs": [
        {
          "output_type": "stream",
          "text": [
            "Cantidad de registros:  13580\n"
          ],
          "name": "stdout"
        },
        {
          "output_type": "execute_result",
          "data": {
            "text/html": [
              "<div>\n",
              "<style scoped>\n",
              "    .dataframe tbody tr th:only-of-type {\n",
              "        vertical-align: middle;\n",
              "    }\n",
              "\n",
              "    .dataframe tbody tr th {\n",
              "        vertical-align: top;\n",
              "    }\n",
              "\n",
              "    .dataframe thead th {\n",
              "        text-align: right;\n",
              "    }\n",
              "</style>\n",
              "<table border=\"1\" class=\"dataframe\">\n",
              "  <thead>\n",
              "    <tr style=\"text-align: right;\">\n",
              "      <th></th>\n",
              "      <th>Rooms</th>\n",
              "      <th>Price</th>\n",
              "      <th>Distance</th>\n",
              "      <th>Postcode</th>\n",
              "      <th>Bedroom2</th>\n",
              "      <th>Bathroom</th>\n",
              "      <th>Car</th>\n",
              "      <th>Landsize</th>\n",
              "      <th>BuildingArea</th>\n",
              "      <th>YearBuilt</th>\n",
              "      <th>Lattitude</th>\n",
              "      <th>Longtitude</th>\n",
              "      <th>Propertycount</th>\n",
              "    </tr>\n",
              "  </thead>\n",
              "  <tbody>\n",
              "    <tr>\n",
              "      <th>count</th>\n",
              "      <td>13580.0</td>\n",
              "      <td>13580.0</td>\n",
              "      <td>13580.0</td>\n",
              "      <td>13580.0</td>\n",
              "      <td>13580.0</td>\n",
              "      <td>13580.0</td>\n",
              "      <td>13518.0</td>\n",
              "      <td>13580.0</td>\n",
              "      <td>7130.0</td>\n",
              "      <td>8205.0</td>\n",
              "      <td>13580.0</td>\n",
              "      <td>13580.0</td>\n",
              "      <td>13580.0</td>\n",
              "    </tr>\n",
              "    <tr>\n",
              "      <th>mean</th>\n",
              "      <td>2.9</td>\n",
              "      <td>1075684.1</td>\n",
              "      <td>10.1</td>\n",
              "      <td>3105.3</td>\n",
              "      <td>2.9</td>\n",
              "      <td>1.5</td>\n",
              "      <td>1.6</td>\n",
              "      <td>558.4</td>\n",
              "      <td>152.0</td>\n",
              "      <td>1964.7</td>\n",
              "      <td>-37.8</td>\n",
              "      <td>145.0</td>\n",
              "      <td>7454.4</td>\n",
              "    </tr>\n",
              "    <tr>\n",
              "      <th>std</th>\n",
              "      <td>1.0</td>\n",
              "      <td>639310.7</td>\n",
              "      <td>5.9</td>\n",
              "      <td>90.7</td>\n",
              "      <td>1.0</td>\n",
              "      <td>0.7</td>\n",
              "      <td>1.0</td>\n",
              "      <td>3990.7</td>\n",
              "      <td>541.0</td>\n",
              "      <td>37.3</td>\n",
              "      <td>0.1</td>\n",
              "      <td>0.1</td>\n",
              "      <td>4378.6</td>\n",
              "    </tr>\n",
              "    <tr>\n",
              "      <th>min</th>\n",
              "      <td>1.0</td>\n",
              "      <td>85000.0</td>\n",
              "      <td>0.0</td>\n",
              "      <td>3000.0</td>\n",
              "      <td>0.0</td>\n",
              "      <td>0.0</td>\n",
              "      <td>0.0</td>\n",
              "      <td>0.0</td>\n",
              "      <td>0.0</td>\n",
              "      <td>1196.0</td>\n",
              "      <td>-38.2</td>\n",
              "      <td>144.4</td>\n",
              "      <td>249.0</td>\n",
              "    </tr>\n",
              "    <tr>\n",
              "      <th>25%</th>\n",
              "      <td>2.0</td>\n",
              "      <td>650000.0</td>\n",
              "      <td>6.1</td>\n",
              "      <td>3044.0</td>\n",
              "      <td>2.0</td>\n",
              "      <td>1.0</td>\n",
              "      <td>1.0</td>\n",
              "      <td>177.0</td>\n",
              "      <td>93.0</td>\n",
              "      <td>1940.0</td>\n",
              "      <td>-37.9</td>\n",
              "      <td>144.9</td>\n",
              "      <td>4380.0</td>\n",
              "    </tr>\n",
              "    <tr>\n",
              "      <th>50%</th>\n",
              "      <td>3.0</td>\n",
              "      <td>903000.0</td>\n",
              "      <td>9.2</td>\n",
              "      <td>3084.0</td>\n",
              "      <td>3.0</td>\n",
              "      <td>1.0</td>\n",
              "      <td>2.0</td>\n",
              "      <td>440.0</td>\n",
              "      <td>126.0</td>\n",
              "      <td>1970.0</td>\n",
              "      <td>-37.8</td>\n",
              "      <td>145.0</td>\n",
              "      <td>6555.0</td>\n",
              "    </tr>\n",
              "    <tr>\n",
              "      <th>75%</th>\n",
              "      <td>3.0</td>\n",
              "      <td>1330000.0</td>\n",
              "      <td>13.0</td>\n",
              "      <td>3148.0</td>\n",
              "      <td>3.0</td>\n",
              "      <td>2.0</td>\n",
              "      <td>2.0</td>\n",
              "      <td>651.0</td>\n",
              "      <td>174.0</td>\n",
              "      <td>1999.0</td>\n",
              "      <td>-37.8</td>\n",
              "      <td>145.1</td>\n",
              "      <td>10331.0</td>\n",
              "    </tr>\n",
              "    <tr>\n",
              "      <th>max</th>\n",
              "      <td>10.0</td>\n",
              "      <td>9000000.0</td>\n",
              "      <td>48.1</td>\n",
              "      <td>3977.0</td>\n",
              "      <td>20.0</td>\n",
              "      <td>8.0</td>\n",
              "      <td>10.0</td>\n",
              "      <td>433014.0</td>\n",
              "      <td>44515.0</td>\n",
              "      <td>2018.0</td>\n",
              "      <td>-37.4</td>\n",
              "      <td>145.5</td>\n",
              "      <td>21650.0</td>\n",
              "    </tr>\n",
              "  </tbody>\n",
              "</table>\n",
              "</div>"
            ],
            "text/plain": [
              "         Rooms      Price  Distance  ...  Lattitude  Longtitude  Propertycount\n",
              "count  13580.0    13580.0   13580.0  ...    13580.0     13580.0        13580.0\n",
              "mean       2.9  1075684.1      10.1  ...      -37.8       145.0         7454.4\n",
              "std        1.0   639310.7       5.9  ...        0.1         0.1         4378.6\n",
              "min        1.0    85000.0       0.0  ...      -38.2       144.4          249.0\n",
              "25%        2.0   650000.0       6.1  ...      -37.9       144.9         4380.0\n",
              "50%        3.0   903000.0       9.2  ...      -37.8       145.0         6555.0\n",
              "75%        3.0  1330000.0      13.0  ...      -37.8       145.1        10331.0\n",
              "max       10.0  9000000.0      48.1  ...      -37.4       145.5        21650.0\n",
              "\n",
              "[8 rows x 13 columns]"
            ]
          },
          "metadata": {
            "tags": []
          },
          "execution_count": 126
        }
      ]
    },
    {
      "cell_type": "markdown",
      "metadata": {
        "id": "VADfNPibDV-7"
      },
      "source": [
        "Como se puede observar, el dataframe se refiere a las características de propiedades que fueron vendidas y cuenta con 13.580 filas. A continuación, se presenta la información de cada columna del dataframe a los fines de determinar los límites que se impondrán luego sobre las variables numéricas."
      ]
    },
    {
      "cell_type": "code",
      "metadata": {
        "colab": {
          "base_uri": "https://localhost:8080/"
        },
        "id": "cjtlGmGMDV-7",
        "outputId": "5c214229-d4ea-46a4-c15a-96b5288a1b4a"
      },
      "source": [
        "melb_df.info()"
      ],
      "execution_count": 127,
      "outputs": [
        {
          "output_type": "stream",
          "text": [
            "<class 'pandas.core.frame.DataFrame'>\n",
            "RangeIndex: 13580 entries, 0 to 13579\n",
            "Data columns (total 21 columns):\n",
            " #   Column         Non-Null Count  Dtype  \n",
            "---  ------         --------------  -----  \n",
            " 0   Suburb         13580 non-null  object \n",
            " 1   Address        13580 non-null  object \n",
            " 2   Rooms          13580 non-null  int64  \n",
            " 3   Type           13580 non-null  object \n",
            " 4   Price          13580 non-null  float64\n",
            " 5   Method         13580 non-null  object \n",
            " 6   SellerG        13580 non-null  object \n",
            " 7   Date           13580 non-null  object \n",
            " 8   Distance       13580 non-null  float64\n",
            " 9   Postcode       13580 non-null  float64\n",
            " 10  Bedroom2       13580 non-null  float64\n",
            " 11  Bathroom       13580 non-null  float64\n",
            " 12  Car            13518 non-null  float64\n",
            " 13  Landsize       13580 non-null  float64\n",
            " 14  BuildingArea   7130 non-null   float64\n",
            " 15  YearBuilt      8205 non-null   float64\n",
            " 16  CouncilArea    12211 non-null  object \n",
            " 17  Lattitude      13580 non-null  float64\n",
            " 18  Longtitude     13580 non-null  float64\n",
            " 19  Regionname     13580 non-null  object \n",
            " 20  Propertycount  13580 non-null  float64\n",
            "dtypes: float64(12), int64(1), object(8)\n",
            "memory usage: 2.2+ MB\n"
          ],
          "name": "stdout"
        }
      ]
    },
    {
      "cell_type": "markdown",
      "metadata": {
        "id": "5KL8Nkx9DV-8"
      },
      "source": [
        "La variable \"Rooms\" se limitará a 8 rooms, dado que es el valor más alto que se presenta razonable. Considerando que son \"espacios\" de la propiedad y no \"habitaciones\", se entiende que no es un outlier. También se controla que el número de habitaciones sea mayor a 0."
      ]
    },
    {
      "cell_type": "code",
      "metadata": {
        "colab": {
          "base_uri": "https://localhost:8080/"
        },
        "id": "stoedDeVDV-9",
        "outputId": "ebd0c370-1edf-41c2-b6fd-9dd2a499b618"
      },
      "source": [
        "melb_df['Rooms'].value_counts()"
      ],
      "execution_count": 128,
      "outputs": [
        {
          "output_type": "execute_result",
          "data": {
            "text/plain": [
              "3     5881\n",
              "2     3648\n",
              "4     2688\n",
              "1      681\n",
              "5      596\n",
              "6       67\n",
              "7       10\n",
              "8        8\n",
              "10       1\n",
              "Name: Rooms, dtype: int64"
            ]
          },
          "metadata": {
            "tags": []
          },
          "execution_count": 128
        }
      ]
    },
    {
      "cell_type": "markdown",
      "metadata": {
        "id": "VPjzk2dfDV--"
      },
      "source": [
        "La variable \"Bedroom2\" debería limitarse a 8 como máximo, para que no supere el valor de \"Rooms\". Sin embargo, como se muestra a continuación, las variables \"Rooms\" y \"Bedroom2\" se encuentran altamente correlacionadas, por lo que esta última será descartada."
      ]
    },
    {
      "cell_type": "code",
      "metadata": {
        "colab": {
          "base_uri": "https://localhost:8080/"
        },
        "id": "UNnUQseNDV--",
        "outputId": "44fbc23c-149e-4704-dc40-c3d90cd3dc59"
      },
      "source": [
        "melb_df['Bedroom2'].value_counts()"
      ],
      "execution_count": 129,
      "outputs": [
        {
          "output_type": "execute_result",
          "data": {
            "text/plain": [
              "3.0     5896\n",
              "2.0     3737\n",
              "4.0     2601\n",
              "1.0      691\n",
              "5.0      556\n",
              "6.0       63\n",
              "0.0       16\n",
              "7.0       10\n",
              "8.0        5\n",
              "9.0        3\n",
              "10.0       1\n",
              "20.0       1\n",
              "Name: Bedroom2, dtype: int64"
            ]
          },
          "metadata": {
            "tags": []
          },
          "execution_count": 129
        }
      ]
    },
    {
      "cell_type": "code",
      "metadata": {
        "colab": {
          "base_uri": "https://localhost:8080/",
          "height": 110
        },
        "id": "VnAZh5uODV--",
        "outputId": "691d00e0-65a3-4afb-959d-bb2d84287876"
      },
      "source": [
        "melb_df[['Bedroom2','Rooms' ]].corr()"
      ],
      "execution_count": 130,
      "outputs": [
        {
          "output_type": "execute_result",
          "data": {
            "text/html": [
              "<div>\n",
              "<style scoped>\n",
              "    .dataframe tbody tr th:only-of-type {\n",
              "        vertical-align: middle;\n",
              "    }\n",
              "\n",
              "    .dataframe tbody tr th {\n",
              "        vertical-align: top;\n",
              "    }\n",
              "\n",
              "    .dataframe thead th {\n",
              "        text-align: right;\n",
              "    }\n",
              "</style>\n",
              "<table border=\"1\" class=\"dataframe\">\n",
              "  <thead>\n",
              "    <tr style=\"text-align: right;\">\n",
              "      <th></th>\n",
              "      <th>Bedroom2</th>\n",
              "      <th>Rooms</th>\n",
              "    </tr>\n",
              "  </thead>\n",
              "  <tbody>\n",
              "    <tr>\n",
              "      <th>Bedroom2</th>\n",
              "      <td>1.00000</td>\n",
              "      <td>0.94419</td>\n",
              "    </tr>\n",
              "    <tr>\n",
              "      <th>Rooms</th>\n",
              "      <td>0.94419</td>\n",
              "      <td>1.00000</td>\n",
              "    </tr>\n",
              "  </tbody>\n",
              "</table>\n",
              "</div>"
            ],
            "text/plain": [
              "          Bedroom2    Rooms\n",
              "Bedroom2   1.00000  0.94419\n",
              "Rooms      0.94419  1.00000"
            ]
          },
          "metadata": {
            "tags": []
          },
          "execution_count": 130
        }
      ]
    },
    {
      "cell_type": "markdown",
      "metadata": {
        "id": "ViEM5FhTDV-_"
      },
      "source": [
        "Considerando que la variable \"Rooms\" y \"Bedroom2\" fue limitada a 8, la cantidad de baños debería ser menor a este valor. Por esto, la variable fue limitada a 7 o menos, ya que además en el dataframe solo hay dos observaciones que poseen 8 baños, por lo que no se estaría perdiendo demasiada información. También se controla que el número de baños sea mayor a 0."
      ]
    },
    {
      "cell_type": "code",
      "metadata": {
        "colab": {
          "base_uri": "https://localhost:8080/"
        },
        "id": "c-n88b8_DV-_",
        "outputId": "725d2b5f-88ea-4408-ef7a-015038ac3cac"
      },
      "source": [
        "melb_df['Bathroom'].value_counts()"
      ],
      "execution_count": 131,
      "outputs": [
        {
          "output_type": "execute_result",
          "data": {
            "text/plain": [
              "1.0    7512\n",
              "2.0    4974\n",
              "3.0     917\n",
              "4.0     106\n",
              "0.0      34\n",
              "5.0      28\n",
              "6.0       5\n",
              "8.0       2\n",
              "7.0       2\n",
              "Name: Bathroom, dtype: int64"
            ]
          },
          "metadata": {
            "tags": []
          },
          "execution_count": 131
        }
      ]
    },
    {
      "cell_type": "markdown",
      "metadata": {
        "id": "TDD3_jOQDV-_"
      },
      "source": [
        "La variable \"Car\", que se refiere a la cantidad de cocheras con las que cuenta la propiedad, son limitadas a 6. La frecuencia de esta variabla para una cantidad mayor a 6 es demasiado baja en comparación con la cantidad total de datos, por lo éstos serán tratados como outliers."
      ]
    },
    {
      "cell_type": "code",
      "metadata": {
        "colab": {
          "base_uri": "https://localhost:8080/"
        },
        "id": "uDVeYB4FDV-_",
        "outputId": "336d21cd-3730-4eae-bd15-6a6f77ef1549"
      },
      "source": [
        "melb_df['Car'].value_counts()"
      ],
      "execution_count": 132,
      "outputs": [
        {
          "output_type": "execute_result",
          "data": {
            "text/plain": [
              "2.0     5591\n",
              "1.0     5509\n",
              "0.0     1026\n",
              "3.0      748\n",
              "4.0      506\n",
              "5.0       63\n",
              "6.0       54\n",
              "8.0        9\n",
              "7.0        8\n",
              "10.0       3\n",
              "9.0        1\n",
              "Name: Car, dtype: int64"
            ]
          },
          "metadata": {
            "tags": []
          },
          "execution_count": 132
        }
      ]
    },
    {
      "cell_type": "markdown",
      "metadata": {
        "id": "cPxo6T12DV_A"
      },
      "source": [
        "Como se muestra a continuación, si bien el total dataframe cuenta con 13.580 observaciones, solo hay 7.113 filas que poseen la variable \"BuildingArea\" con un valor mayor a 0. Se entiende que si se trata de propiedades habitables, el hecho de que los metros construidos no existan (iguales a 0), es un error. Por este motivo, luego se imputarán valores sobre esta variable."
      ]
    },
    {
      "cell_type": "code",
      "metadata": {
        "colab": {
          "base_uri": "https://localhost:8080/"
        },
        "id": "u0iERWeBieNv",
        "outputId": "12e1a237-f9ed-4dea-834d-34061887e313"
      },
      "source": [
        "len(melb_df[melb_df['BuildingArea']>0])"
      ],
      "execution_count": 133,
      "outputs": [
        {
          "output_type": "execute_result",
          "data": {
            "text/plain": [
              "7113"
            ]
          },
          "metadata": {
            "tags": []
          },
          "execution_count": 133
        }
      ]
    },
    {
      "cell_type": "markdown",
      "metadata": {
        "id": "7RLoQozODV_A"
      },
      "source": [
        "Por último, se dejará afuera el outlier \"1196\" de la variable \"YearBuilt\", entendiendo que se trata de un error por tener cerca de 825 años de antigüedad."
      ]
    },
    {
      "cell_type": "code",
      "metadata": {
        "colab": {
          "base_uri": "https://localhost:8080/"
        },
        "id": "bHvwF4CjDV_B",
        "outputId": "ae056fa5-ce3f-46b8-9b60-7ca110d11052"
      },
      "source": [
        "melb_df['YearBuilt'].describe()"
      ],
      "execution_count": 134,
      "outputs": [
        {
          "output_type": "execute_result",
          "data": {
            "text/plain": [
              "count    8205.000000\n",
              "mean     1964.684217\n",
              "std        37.273762\n",
              "min      1196.000000\n",
              "25%      1940.000000\n",
              "50%      1970.000000\n",
              "75%      1999.000000\n",
              "max      2018.000000\n",
              "Name: YearBuilt, dtype: float64"
            ]
          },
          "metadata": {
            "tags": []
          },
          "execution_count": 134
        }
      ]
    },
    {
      "cell_type": "code",
      "metadata": {
        "colab": {
          "base_uri": "https://localhost:8080/",
          "height": 172
        },
        "id": "SzWJXTqtlkS6",
        "outputId": "d686cd54-447d-472a-ad08-1ea6fae4d378"
      },
      "source": [
        "# Aplicación de límites sobre las variables:\n",
        "\n",
        "# Eliminación de columna \"Bedroom2\"\n",
        "melb_df.drop(columns=['Bedroom2'], inplace=True)\n",
        "\n",
        "# 1) Limitación de ambientes\n",
        "lim_rooms = 8\n",
        "lim_bathroom = 7\n",
        "lim_car = 6\n",
        "\n",
        "melb_df = melb_df[(melb_df['Rooms']>0) & (melb_df['Rooms']<=lim_rooms)]\n",
        "melb_df = melb_df[(melb_df['Bathroom']>0) & (melb_df['Bathroom']<=lim_bathroom)]\n",
        "melb_df = melb_df[melb_df['Car']<=lim_car]\n",
        "melb_df.describe().loc[['count','mean','min','max']].round(2)\n",
        "\n",
        "# 2) # Control de que número de habitaciones sea mayor o igual a baños\n",
        "melb_df = melb_df[melb_df['Rooms'] >= melb_df['Bathroom']]\n",
        "melb_df.describe().loc[['count','mean','min','max']].round(2)\n",
        "\n",
        "# 3) # Eliminación de año 1196 (se elimina puntualmente porque si se coloca la\n",
        "# instrucción \">1196\" también se eliminan valores NaN, perdiendo mucha información)\n",
        "melb_df = melb_df[melb_df['YearBuilt'] != 1196.0]\n",
        "melb_df.describe().loc[['count','mean','min','max']].round(2)"
      ],
      "execution_count": 135,
      "outputs": [
        {
          "output_type": "execute_result",
          "data": {
            "text/html": [
              "<div>\n",
              "<style scoped>\n",
              "    .dataframe tbody tr th:only-of-type {\n",
              "        vertical-align: middle;\n",
              "    }\n",
              "\n",
              "    .dataframe tbody tr th {\n",
              "        vertical-align: top;\n",
              "    }\n",
              "\n",
              "    .dataframe thead th {\n",
              "        text-align: right;\n",
              "    }\n",
              "</style>\n",
              "<table border=\"1\" class=\"dataframe\">\n",
              "  <thead>\n",
              "    <tr style=\"text-align: right;\">\n",
              "      <th></th>\n",
              "      <th>Rooms</th>\n",
              "      <th>Price</th>\n",
              "      <th>Distance</th>\n",
              "      <th>Postcode</th>\n",
              "      <th>Bathroom</th>\n",
              "      <th>Car</th>\n",
              "      <th>Landsize</th>\n",
              "      <th>BuildingArea</th>\n",
              "      <th>YearBuilt</th>\n",
              "      <th>Lattitude</th>\n",
              "      <th>Longtitude</th>\n",
              "      <th>Propertycount</th>\n",
              "    </tr>\n",
              "  </thead>\n",
              "  <tbody>\n",
              "    <tr>\n",
              "      <th>count</th>\n",
              "      <td>13433.00</td>\n",
              "      <td>13433.00</td>\n",
              "      <td>13433.00</td>\n",
              "      <td>13433.00</td>\n",
              "      <td>13433.00</td>\n",
              "      <td>13433.0</td>\n",
              "      <td>13433.00</td>\n",
              "      <td>7074.0</td>\n",
              "      <td>8143.00</td>\n",
              "      <td>13433.00</td>\n",
              "      <td>13433.00</td>\n",
              "      <td>13433.00</td>\n",
              "    </tr>\n",
              "    <tr>\n",
              "      <th>mean</th>\n",
              "      <td>2.94</td>\n",
              "      <td>1073167.16</td>\n",
              "      <td>10.16</td>\n",
              "      <td>3105.09</td>\n",
              "      <td>1.53</td>\n",
              "      <td>1.6</td>\n",
              "      <td>558.36</td>\n",
              "      <td>151.4</td>\n",
              "      <td>1964.99</td>\n",
              "      <td>-37.81</td>\n",
              "      <td>145.00</td>\n",
              "      <td>7452.13</td>\n",
              "    </tr>\n",
              "    <tr>\n",
              "      <th>min</th>\n",
              "      <td>1.00</td>\n",
              "      <td>85000.00</td>\n",
              "      <td>0.00</td>\n",
              "      <td>3000.00</td>\n",
              "      <td>1.00</td>\n",
              "      <td>0.0</td>\n",
              "      <td>0.00</td>\n",
              "      <td>0.0</td>\n",
              "      <td>1830.00</td>\n",
              "      <td>-38.18</td>\n",
              "      <td>144.43</td>\n",
              "      <td>249.00</td>\n",
              "    </tr>\n",
              "    <tr>\n",
              "      <th>max</th>\n",
              "      <td>8.00</td>\n",
              "      <td>9000000.00</td>\n",
              "      <td>48.10</td>\n",
              "      <td>3977.00</td>\n",
              "      <td>7.00</td>\n",
              "      <td>6.0</td>\n",
              "      <td>433014.00</td>\n",
              "      <td>44515.0</td>\n",
              "      <td>2017.00</td>\n",
              "      <td>-37.41</td>\n",
              "      <td>145.53</td>\n",
              "      <td>21650.00</td>\n",
              "    </tr>\n",
              "  </tbody>\n",
              "</table>\n",
              "</div>"
            ],
            "text/plain": [
              "          Rooms       Price  Distance  ...  Lattitude  Longtitude  Propertycount\n",
              "count  13433.00    13433.00  13433.00  ...   13433.00    13433.00       13433.00\n",
              "mean       2.94  1073167.16     10.16  ...     -37.81      145.00        7452.13\n",
              "min        1.00    85000.00      0.00  ...     -38.18      144.43         249.00\n",
              "max        8.00  9000000.00     48.10  ...     -37.41      145.53       21650.00\n",
              "\n",
              "[4 rows x 12 columns]"
            ]
          },
          "metadata": {
            "tags": []
          },
          "execution_count": 135
        }
      ]
    },
    {
      "cell_type": "markdown",
      "metadata": {
        "id": "jchusYvyDV_D"
      },
      "source": [
        "Como se observa, luego de aplicar los filtros, el dataframe pasa a tener 13.433 observaciones. No se ha perdido demasiada información. A continuación, se grafica la existencia de datos faltantes."
      ]
    },
    {
      "cell_type": "code",
      "metadata": {
        "id": "2AV99OYJDV_E"
      },
      "source": [
        "import missingno as msno"
      ],
      "execution_count": 136,
      "outputs": []
    },
    {
      "cell_type": "code",
      "metadata": {
        "colab": {
          "base_uri": "https://localhost:8080/",
          "height": 504
        },
        "id": "PStkNo7hpl-R",
        "outputId": "19a43845-2495-4572-c2b7-6c8bf4aa5908"
      },
      "source": [
        "msno.bar(melb_df,figsize=(12, 6), fontsize=12, color='steelblue')"
      ],
      "execution_count": 137,
      "outputs": [
        {
          "output_type": "execute_result",
          "data": {
            "text/plain": [
              "<matplotlib.axes._subplots.AxesSubplot at 0x7f5a9ac6a210>"
            ]
          },
          "metadata": {
            "tags": []
          },
          "execution_count": 137
        },
        {
          "output_type": "display_data",
          "data": {
            "image/png": "[encoded data removed]",
            "text/plain": [
              "<Figure size 864x432 with 3 Axes>"
            ]
          },
          "metadata": {
            "tags": [],
            "needs_background": "light"
          }
        }
      ]
    },
    {
      "cell_type": "markdown",
      "metadata": {
        "id": "w0OIsyAODV_E"
      },
      "source": [
        "Luego de graficar las variables, se observa que \"BuildingArea\", \"YearBuilt\" y \"CouncilArea\" poseen datos faltantes. Para solucionar esto, se imputarán valores en esas variables utilizando la técnica de imputación K-Nearest Neighbor para las variables numéricas. Este algoritmo utiliza \"similitud de características\" para predecir los valores de cualquier nuevo punto de datos.\n",
        "La imputación de la variable categórica \"CouncilArea\" se hará más adelante, en Ejercicio 2."
      ]
    },
    {
      "cell_type": "code",
      "metadata": {
        "id": "mx7kLDPhnAL5"
      },
      "source": [
        "from sklearn.impute import KNNImputer\n",
        "\n",
        "melb_data_knn = melb_df.copy(deep=True)"
      ],
      "execution_count": 138,
      "outputs": []
    },
    {
      "cell_type": "code",
      "metadata": {
        "id": "yGABet2LnJdB"
      },
      "source": [
        "knn_imputer = KNNImputer(n_neighbors=2, weights=\"uniform\")\n",
        "melb_data_knn[['BuildingArea', 'YearBuilt']] = knn_imputer.fit_transform(melb_data_knn[['BuildingArea', 'YearBuilt']])"
      ],
      "execution_count": 139,
      "outputs": []
    },
    {
      "cell_type": "code",
      "metadata": {
        "colab": {
          "base_uri": "https://localhost:8080/",
          "height": 504
        },
        "id": "TiizLAiQrpgW",
        "outputId": "a4675cfb-42e9-4723-ae0c-4ff944993d9e"
      },
      "source": [
        "msno.bar(melb_data_knn,figsize=(12, 6), fontsize=12, color='steelblue')"
      ],
      "execution_count": 140,
      "outputs": [
        {
          "output_type": "execute_result",
          "data": {
            "text/plain": [
              "<matplotlib.axes._subplots.AxesSubplot at 0x7f5a9a871790>"
            ]
          },
          "metadata": {
            "tags": []
          },
          "execution_count": 140
        },
        {
          "output_type": "display_data",
          "data": {
            "image/png": "[encoded data removed]",
            "text/plain": [
              "<Figure size 864x432 with 3 Axes>"
            ]
          },
          "metadata": {
            "tags": [],
            "needs_background": "light"
          }
        }
      ]
    },
    {
      "cell_type": "markdown",
      "metadata": {
        "id": "hFNPs_7wq3xg"
      },
      "source": [
        "2. Investigar la distribución de las variables del conjunto de datos y seleccionar un subconjunto de columnas que les parezcan relevantes al problema de predicción del valor de la propiedad.\n",
        "\n",
        "    2.1 Justificar cada columna no seleccionada.\n",
        "    \n",
        "    2.2 Para las variables categóricas seleccionadas, agrupe o combine las categorías poco frecuentes para asegurar que todos los grupos tengan un número mínimo de registros."
      ]
    },
    {
      "cell_type": "markdown",
      "metadata": {
        "id": "baaK8YXtDV_G"
      },
      "source": [
        "A continuación se presenta un breve repaso de las variables que quedan afuera del análisis:\n",
        "\n",
        "Al decidir trabajar con la variable \"Suburb\", se entiende que arroja información valiosa en cuanto a la ubicación de la propiedad, por lo que las variables \"Address\", \"Distance\", \"Regionname\", \"Longtitue\" y \"Lattitude\" quedan fuera por aportar el mismo tipo de información que se podría concluir de \"Suburb\".\n",
        "\n",
        "Además, y como se mencionó anteriormente, la variable Bedroom2 se elimina por estar altamente correlacionada con \"Rooms\".\n",
        "\n",
        "Dado esto, nuestras columnas relevantes son las restantes variables:"
      ]
    },
    {
      "cell_type": "code",
      "metadata": {
        "colab": {
          "base_uri": "https://localhost:8080/",
          "height": 195
        },
        "id": "JwYnGr8b-x3L",
        "outputId": "5af42786-b2db-4f84-cb51-7ee8951f28bd"
      },
      "source": [
        "interesting_melb_cols = ['Suburb', 'Rooms', 'Type', 'Price','Method', 'SellerG',\n",
        "                         'Date', 'Postcode', 'Bathroom', 'Car', 'Landsize',\n",
        "                         'BuildingArea', 'YearBuilt', 'CouncilArea','Propertycount']\n",
        "\n",
        "print('Columnas consideradas: ', interesting_melb_cols)\n",
        "print('Columnas descartadas: ', list(set(melb_df.columns) - set(interesting_melb_cols))) # \"-\" difference entre dos conjuntos A y B\n",
        "\n",
        "melb_data_knn_filt = melb_data_knn.loc[:, interesting_melb_cols]\n",
        "melb_data_knn_filt.head(3)"
      ],
      "execution_count": 142,
      "outputs": [
        {
          "output_type": "stream",
          "text": [
            "Columnas consideradas:  ['Suburb', 'Rooms', 'Type', 'Price', 'Method', 'SellerG', 'Date', 'Postcode', 'Bathroom', 'Car', 'Landsize', 'BuildingArea', 'YearBuilt', 'CouncilArea', 'Propertycount']\n",
            "Columnas descartadas:  ['Longtitude', 'Distance', 'Address', 'Regionname', 'Lattitude']\n"
          ],
          "name": "stdout"
        },
        {
          "output_type": "execute_result",
          "data": {
            "text/html": [
              "<div>\n",
              "<style scoped>\n",
              "    .dataframe tbody tr th:only-of-type {\n",
              "        vertical-align: middle;\n",
              "    }\n",
              "\n",
              "    .dataframe tbody tr th {\n",
              "        vertical-align: top;\n",
              "    }\n",
              "\n",
              "    .dataframe thead th {\n",
              "        text-align: right;\n",
              "    }\n",
              "</style>\n",
              "<table border=\"1\" class=\"dataframe\">\n",
              "  <thead>\n",
              "    <tr style=\"text-align: right;\">\n",
              "      <th></th>\n",
              "      <th>Suburb</th>\n",
              "      <th>Rooms</th>\n",
              "      <th>Type</th>\n",
              "      <th>Price</th>\n",
              "      <th>Method</th>\n",
              "      <th>SellerG</th>\n",
              "      <th>Date</th>\n",
              "      <th>Postcode</th>\n",
              "      <th>Bathroom</th>\n",
              "      <th>Car</th>\n",
              "      <th>Landsize</th>\n",
              "      <th>BuildingArea</th>\n",
              "      <th>YearBuilt</th>\n",
              "      <th>CouncilArea</th>\n",
              "      <th>Propertycount</th>\n",
              "    </tr>\n",
              "  </thead>\n",
              "  <tbody>\n",
              "    <tr>\n",
              "      <th>0</th>\n",
              "      <td>Abbotsford</td>\n",
              "      <td>2</td>\n",
              "      <td>h</td>\n",
              "      <td>1480000.0</td>\n",
              "      <td>S</td>\n",
              "      <td>Biggin</td>\n",
              "      <td>3/12/2016</td>\n",
              "      <td>3067.0</td>\n",
              "      <td>1.0</td>\n",
              "      <td>1.0</td>\n",
              "      <td>202.0</td>\n",
              "      <td>151.396995</td>\n",
              "      <td>1964.986491</td>\n",
              "      <td>Yarra</td>\n",
              "      <td>4019.0</td>\n",
              "    </tr>\n",
              "    <tr>\n",
              "      <th>1</th>\n",
              "      <td>Abbotsford</td>\n",
              "      <td>2</td>\n",
              "      <td>h</td>\n",
              "      <td>1035000.0</td>\n",
              "      <td>S</td>\n",
              "      <td>Biggin</td>\n",
              "      <td>4/02/2016</td>\n",
              "      <td>3067.0</td>\n",
              "      <td>1.0</td>\n",
              "      <td>0.0</td>\n",
              "      <td>156.0</td>\n",
              "      <td>79.000000</td>\n",
              "      <td>1900.000000</td>\n",
              "      <td>Yarra</td>\n",
              "      <td>4019.0</td>\n",
              "    </tr>\n",
              "    <tr>\n",
              "      <th>2</th>\n",
              "      <td>Abbotsford</td>\n",
              "      <td>3</td>\n",
              "      <td>h</td>\n",
              "      <td>1465000.0</td>\n",
              "      <td>SP</td>\n",
              "      <td>Biggin</td>\n",
              "      <td>4/03/2017</td>\n",
              "      <td>3067.0</td>\n",
              "      <td>2.0</td>\n",
              "      <td>0.0</td>\n",
              "      <td>134.0</td>\n",
              "      <td>150.000000</td>\n",
              "      <td>1900.000000</td>\n",
              "      <td>Yarra</td>\n",
              "      <td>4019.0</td>\n",
              "    </tr>\n",
              "  </tbody>\n",
              "</table>\n",
              "</div>"
            ],
            "text/plain": [
              "       Suburb  Rooms Type  ...    YearBuilt CouncilArea Propertycount\n",
              "0  Abbotsford      2    h  ...  1964.986491       Yarra        4019.0\n",
              "1  Abbotsford      2    h  ...  1900.000000       Yarra        4019.0\n",
              "2  Abbotsford      3    h  ...  1900.000000       Yarra        4019.0\n",
              "\n",
              "[3 rows x 15 columns]"
            ]
          },
          "metadata": {
            "tags": []
          },
          "execution_count": 142
        }
      ]
    },
    {
      "cell_type": "markdown",
      "metadata": {
        "id": "s-mixICN22kA"
      },
      "source": [
        "3. Agregar información adicional respectiva al entorno de una propiedad a partir del [conjunto de datos de AirBnB](https://www.kaggle.com/tylerx/melbourne-airbnb-open-data?select=cleansed_listings_dec18.csv). \n",
        "  1. Seleccionar qué variables agregar y qué combinaciones aplicar a cada una. Por ejemplo, pueden utilizar solo la columna `price`, o aplicar múltiples transformaciones como la mediana o el mínimo.\n",
        "  1. Utilizar la variable zipcode para unir los conjuntos de datos. Sólo incluir los zipcodes que tengan una cantidad mínima de registros (a elección) como para que la información agregada sea relevante.\n",
        "  2. Investigar al menos otras 2 variables que puedan servir para combinar los datos, y justificar si serían adecuadas o no. Pueden asumir que cuentan con la ayuda de anotadores expertos para encontrar equivalencias entre barrios o direcciones, o que cuentan con algoritmos para encontrar las n ubicaciones más cercanas a una propiedad a partir de sus coordenadas geográficas. **NO** es necesario que realicen la implementación.\n",
        "\n",
        "Pueden leer otras columnas del conjunto de AirBnB además de las que están en `interesting_cols`, si les parecen relevantes.\n"
      ]
    },
    {
      "cell_type": "markdown",
      "metadata": {
        "id": "FF8mmSMiDV_H"
      },
      "source": [
        "Para importar la información de AirBnB:"
      ]
    },
    {
      "cell_type": "code",
      "metadata": {
        "colab": {
          "base_uri": "https://localhost:8080/"
        },
        "id": "k3Z2vxNHJfJK",
        "outputId": "6c4f35bb-a153-4ac1-8724-1296f7f5fab9"
      },
      "source": [
        "#data source:\n",
        "#https://www.kaggle.com/tylerx/melbourne-airbnb-open-data?select=cleansed_listings_dec18.csv\n",
        "\n",
        "# airbnb_df = pd.read_csv('https://cs.famaf.unc.edu.ar/~mteruel/datasets/diplodatos/cleansed_listings_dec18.csv')\n",
        "# print(airbnb_df.columns)\n",
        "\n",
        "interesting_cols = [\n",
        "  'description', 'neighborhood_overview',\n",
        "  'street', 'neighborhood', 'city', 'suburb', 'state', 'zipcode',\n",
        "  'price', 'weekly_price', 'monthly_price',\n",
        "  'latitude', 'longitude',\n",
        "  'property_type', 'bathrooms', 'bedrooms']\n",
        "\n",
        "airbnb_df = pd.read_csv('https://cs.famaf.unc.edu.ar/~mteruel/datasets/diplodatos/cleansed_listings_dec18.csv',\n",
        "            usecols=interesting_cols)"
      ],
      "execution_count": 143,
      "outputs": [
        {
          "output_type": "stream",
          "text": [
            "/usr/local/lib/python3.7/dist-packages/IPython/core/interactiveshell.py:2718: DtypeWarning:\n",
            "\n",
            "Columns (35) have mixed types.Specify dtype option on import or set low_memory=False.\n",
            "\n"
          ],
          "name": "stderr"
        }
      ]
    },
    {
      "cell_type": "markdown",
      "metadata": {
        "id": "qlSerZgiDV_H"
      },
      "source": [
        "Nuevo dataframe:"
      ]
    },
    {
      "cell_type": "code",
      "metadata": {
        "colab": {
          "base_uri": "https://localhost:8080/",
          "height": 363
        },
        "id": "bc55TFlhF6tP",
        "outputId": "be9d293b-e756-4b97-e8df-bf78383f990e"
      },
      "source": [
        "airbnb_df[:3]"
      ],
      "execution_count": 144,
      "outputs": [
        {
          "output_type": "execute_result",
          "data": {
            "text/html": [
              "<div>\n",
              "<style scoped>\n",
              "    .dataframe tbody tr th:only-of-type {\n",
              "        vertical-align: middle;\n",
              "    }\n",
              "\n",
              "    .dataframe tbody tr th {\n",
              "        vertical-align: top;\n",
              "    }\n",
              "\n",
              "    .dataframe thead th {\n",
              "        text-align: right;\n",
              "    }\n",
              "</style>\n",
              "<table border=\"1\" class=\"dataframe\">\n",
              "  <thead>\n",
              "    <tr style=\"text-align: right;\">\n",
              "      <th></th>\n",
              "      <th>description</th>\n",
              "      <th>neighborhood_overview</th>\n",
              "      <th>street</th>\n",
              "      <th>neighborhood</th>\n",
              "      <th>city</th>\n",
              "      <th>suburb</th>\n",
              "      <th>state</th>\n",
              "      <th>zipcode</th>\n",
              "      <th>latitude</th>\n",
              "      <th>longitude</th>\n",
              "      <th>property_type</th>\n",
              "      <th>bathrooms</th>\n",
              "      <th>bedrooms</th>\n",
              "      <th>price</th>\n",
              "      <th>weekly_price</th>\n",
              "      <th>monthly_price</th>\n",
              "    </tr>\n",
              "  </thead>\n",
              "  <tbody>\n",
              "    <tr>\n",
              "      <th>0</th>\n",
              "      <td>House: Clean, New, Modern, Quite, Safe. 10Km f...</td>\n",
              "      <td>Very safe! Family oriented. Older age group.</td>\n",
              "      <td>Bulleen, VIC, Australia</td>\n",
              "      <td>Balwyn North</td>\n",
              "      <td>Manningham</td>\n",
              "      <td>Bulleen</td>\n",
              "      <td>VIC</td>\n",
              "      <td>3105</td>\n",
              "      <td>-37.772684</td>\n",
              "      <td>145.092133</td>\n",
              "      <td>House</td>\n",
              "      <td>1.0</td>\n",
              "      <td>1.0</td>\n",
              "      <td>60</td>\n",
              "      <td>NaN</td>\n",
              "      <td>NaN</td>\n",
              "    </tr>\n",
              "    <tr>\n",
              "      <th>1</th>\n",
              "      <td>A large air conditioned room with queen spring...</td>\n",
              "      <td>This hip area is a crossroads between two grea...</td>\n",
              "      <td>Brunswick East, VIC, Australia</td>\n",
              "      <td>Brunswick</td>\n",
              "      <td>Moreland</td>\n",
              "      <td>Brunswick East</td>\n",
              "      <td>VIC</td>\n",
              "      <td>3057</td>\n",
              "      <td>-37.766505</td>\n",
              "      <td>144.980736</td>\n",
              "      <td>Apartment</td>\n",
              "      <td>1.0</td>\n",
              "      <td>1.0</td>\n",
              "      <td>35</td>\n",
              "      <td>200.0</td>\n",
              "      <td>803.0</td>\n",
              "    </tr>\n",
              "    <tr>\n",
              "      <th>2</th>\n",
              "      <td>RIGHT IN THE HEART OF ST KILDA! It doesn't get...</td>\n",
              "      <td>A stay at our apartment means you can enjoy so...</td>\n",
              "      <td>St Kilda, VIC, Australia</td>\n",
              "      <td>St Kilda</td>\n",
              "      <td>Port Phillip</td>\n",
              "      <td>St Kilda</td>\n",
              "      <td>VIC</td>\n",
              "      <td>3182</td>\n",
              "      <td>-37.859755</td>\n",
              "      <td>144.977369</td>\n",
              "      <td>Apartment</td>\n",
              "      <td>1.0</td>\n",
              "      <td>1.0</td>\n",
              "      <td>159</td>\n",
              "      <td>1253.0</td>\n",
              "      <td>4452.0</td>\n",
              "    </tr>\n",
              "  </tbody>\n",
              "</table>\n",
              "</div>"
            ],
            "text/plain": [
              "                                         description  ... monthly_price\n",
              "0  House: Clean, New, Modern, Quite, Safe. 10Km f...  ...           NaN\n",
              "1  A large air conditioned room with queen spring...  ...         803.0\n",
              "2  RIGHT IN THE HEART OF ST KILDA! It doesn't get...  ...        4452.0\n",
              "\n",
              "[3 rows x 16 columns]"
            ]
          },
          "metadata": {
            "tags": []
          },
          "execution_count": 144
        }
      ]
    },
    {
      "cell_type": "code",
      "metadata": {
        "colab": {
          "base_uri": "https://localhost:8080/"
        },
        "id": "2RXmPi32DV_H",
        "outputId": "0a158252-86b0-4ddf-9aee-580817d96edd"
      },
      "source": [
        "airbnb_df.info()"
      ],
      "execution_count": 145,
      "outputs": [
        {
          "output_type": "stream",
          "text": [
            "<class 'pandas.core.frame.DataFrame'>\n",
            "RangeIndex: 22895 entries, 0 to 22894\n",
            "Data columns (total 16 columns):\n",
            " #   Column                 Non-Null Count  Dtype  \n",
            "---  ------                 --------------  -----  \n",
            " 0   description            22563 non-null  object \n",
            " 1   neighborhood_overview  14424 non-null  object \n",
            " 2   street                 22895 non-null  object \n",
            " 3   neighborhood           17082 non-null  object \n",
            " 4   city                   22895 non-null  object \n",
            " 5   suburb                 22872 non-null  object \n",
            " 6   state                  22834 non-null  object \n",
            " 7   zipcode                22753 non-null  object \n",
            " 8   latitude               22895 non-null  float64\n",
            " 9   longitude              22895 non-null  float64\n",
            " 10  property_type          22895 non-null  object \n",
            " 11  bathrooms              22878 non-null  float64\n",
            " 12  bedrooms               22890 non-null  float64\n",
            " 13  price                  22895 non-null  int64  \n",
            " 14  weekly_price           2524 non-null   float64\n",
            " 15  monthly_price          1891 non-null   float64\n",
            "dtypes: float64(6), int64(1), object(9)\n",
            "memory usage: 2.8+ MB\n"
          ],
          "name": "stdout"
        }
      ]
    },
    {
      "cell_type": "markdown",
      "metadata": {
        "id": "SdN_T6I3DV_I"
      },
      "source": [
        "La variable \"zipcode\" es un objeto, por lo que tenemos que convertirla a una variable de tipo float64 para trabajarla."
      ]
    },
    {
      "cell_type": "code",
      "metadata": {
        "id": "W-0UxczZxKTs"
      },
      "source": [
        "airbnb_df['zipcode'] = pd.to_numeric(airbnb_df.zipcode, errors='coerce')"
      ],
      "execution_count": 146,
      "outputs": []
    },
    {
      "cell_type": "markdown",
      "metadata": {
        "id": "3xYO2sJJDV_I"
      },
      "source": [
        "Al estudiar la intersección entre la información disponible en la variable \"Zipcode\" de cada dataframe, se puede concluir que esta variable será la utilizada para unir las dos bases de datos, por encontrarse 191 zipcodes en común de un total de 198 que existen en la base con la información de ventas de propiedades."
      ]
    },
    {
      "cell_type": "code",
      "metadata": {
        "colab": {
          "base_uri": "https://localhost:8080/"
        },
        "id": "BdbhrDcRxOCs",
        "outputId": "9359da65-148d-40ff-e6ad-ffdb9efbcd17"
      },
      "source": [
        "intersection = np.intersect1d(\n",
        "    airbnb_df.zipcode.values, melb_df.Postcode.values, assume_unique=False)\n",
        "print(\"Airbnb unique zipcodes\", len(airbnb_df.zipcode.unique()))\n",
        "print(\"Sales unique zipcodes\", len(melb_df.Postcode.unique()))\n",
        "print(\"Common zipcodes\", len(intersection))"
      ],
      "execution_count": 147,
      "outputs": [
        {
          "output_type": "stream",
          "text": [
            "Airbnb unique zipcodes 248\n",
            "Sales unique zipcodes 198\n",
            "Common zipcodes 191\n"
          ],
          "name": "stdout"
        }
      ]
    },
    {
      "cell_type": "markdown",
      "metadata": {
        "id": "g3LLkP8uSsxu"
      },
      "source": [
        "Del nuevo dataframe, proveniente de AirBnB sólo se considerarán la columnas \"zipcode\" y \"price\". A continuación se extran estas columnas en un nuevo df. Además, para cada \"zipcode\" se asigna el valor promedio de la variable \"price\". De esa manera queda una relación biunívoca entre ambas variables."
      ]
    },
    {
      "cell_type": "code",
      "metadata": {
        "colab": {
          "base_uri": "https://localhost:8080/",
          "height": 417
        },
        "id": "21Zvc_JZxQf8",
        "outputId": "55f37241-21f3-4db9-f36c-76177c8fa53f"
      },
      "source": [
        "airbnb_price_by_zipcode=airbnb_df[['price','zipcode']]\\\n",
        "  .groupby('zipcode').mean().reset_index()\n",
        "\n",
        "airbnb_price_by_zipcode"
      ],
      "execution_count": 150,
      "outputs": [
        {
          "output_type": "execute_result",
          "data": {
            "text/html": [
              "<div>\n",
              "<style scoped>\n",
              "    .dataframe tbody tr th:only-of-type {\n",
              "        vertical-align: middle;\n",
              "    }\n",
              "\n",
              "    .dataframe tbody tr th {\n",
              "        vertical-align: top;\n",
              "    }\n",
              "\n",
              "    .dataframe thead th {\n",
              "        text-align: right;\n",
              "    }\n",
              "</style>\n",
              "<table border=\"1\" class=\"dataframe\">\n",
              "  <thead>\n",
              "    <tr style=\"text-align: right;\">\n",
              "      <th></th>\n",
              "      <th>zipcode</th>\n",
              "      <th>price</th>\n",
              "    </tr>\n",
              "  </thead>\n",
              "  <tbody>\n",
              "    <tr>\n",
              "      <th>0</th>\n",
              "      <td>2010.0</td>\n",
              "      <td>40.000000</td>\n",
              "    </tr>\n",
              "    <tr>\n",
              "      <th>1</th>\n",
              "      <td>2134.0</td>\n",
              "      <td>50.000000</td>\n",
              "    </tr>\n",
              "    <tr>\n",
              "      <th>2</th>\n",
              "      <td>2582.0</td>\n",
              "      <td>104.000000</td>\n",
              "    </tr>\n",
              "    <tr>\n",
              "      <th>3</th>\n",
              "      <td>3000.0</td>\n",
              "      <td>150.504307</td>\n",
              "    </tr>\n",
              "    <tr>\n",
              "      <th>4</th>\n",
              "      <td>3001.0</td>\n",
              "      <td>132.500000</td>\n",
              "    </tr>\n",
              "    <tr>\n",
              "      <th>...</th>\n",
              "      <td>...</td>\n",
              "      <td>...</td>\n",
              "    </tr>\n",
              "    <tr>\n",
              "      <th>242</th>\n",
              "      <td>7367.0</td>\n",
              "      <td>230.000000</td>\n",
              "    </tr>\n",
              "    <tr>\n",
              "      <th>243</th>\n",
              "      <td>8938.0</td>\n",
              "      <td>296.000000</td>\n",
              "    </tr>\n",
              "    <tr>\n",
              "      <th>244</th>\n",
              "      <td>9004.0</td>\n",
              "      <td>226.000000</td>\n",
              "    </tr>\n",
              "    <tr>\n",
              "      <th>245</th>\n",
              "      <td>9540.0</td>\n",
              "      <td>245.000000</td>\n",
              "    </tr>\n",
              "    <tr>\n",
              "      <th>246</th>\n",
              "      <td>30122.0</td>\n",
              "      <td>75.000000</td>\n",
              "    </tr>\n",
              "  </tbody>\n",
              "</table>\n",
              "<p>247 rows × 2 columns</p>\n",
              "</div>"
            ],
            "text/plain": [
              "     zipcode       price\n",
              "0     2010.0   40.000000\n",
              "1     2134.0   50.000000\n",
              "2     2582.0  104.000000\n",
              "3     3000.0  150.504307\n",
              "4     3001.0  132.500000\n",
              "..       ...         ...\n",
              "242   7367.0  230.000000\n",
              "243   8938.0  296.000000\n",
              "244   9004.0  226.000000\n",
              "245   9540.0  245.000000\n",
              "246  30122.0   75.000000\n",
              "\n",
              "[247 rows x 2 columns]"
            ]
          },
          "metadata": {
            "tags": []
          },
          "execution_count": 150
        }
      ]
    },
    {
      "cell_type": "code",
      "metadata": {
        "colab": {
          "base_uri": "https://localhost:8080/",
          "height": 142
        },
        "id": "hxDGdelcDV_J",
        "outputId": "5248b2c1-74fd-405a-c9e0-edf7c3fa69c1"
      },
      "source": [
        "merged_sales_df = melb_data_knn_filt.merge(\n",
        "    airbnb_price_by_zipcode, how='left',\n",
        "    left_on='Postcode', right_on='zipcode')\n",
        "\n",
        "merged_sales_df.head(3)"
      ],
      "execution_count": 152,
      "outputs": [
        {
          "output_type": "execute_result",
          "data": {
            "text/html": [
              "<div>\n",
              "<style scoped>\n",
              "    .dataframe tbody tr th:only-of-type {\n",
              "        vertical-align: middle;\n",
              "    }\n",
              "\n",
              "    .dataframe tbody tr th {\n",
              "        vertical-align: top;\n",
              "    }\n",
              "\n",
              "    .dataframe thead th {\n",
              "        text-align: right;\n",
              "    }\n",
              "</style>\n",
              "<table border=\"1\" class=\"dataframe\">\n",
              "  <thead>\n",
              "    <tr style=\"text-align: right;\">\n",
              "      <th></th>\n",
              "      <th>Suburb</th>\n",
              "      <th>Rooms</th>\n",
              "      <th>Type</th>\n",
              "      <th>Price</th>\n",
              "      <th>Method</th>\n",
              "      <th>SellerG</th>\n",
              "      <th>Date</th>\n",
              "      <th>Postcode</th>\n",
              "      <th>Bathroom</th>\n",
              "      <th>Car</th>\n",
              "      <th>Landsize</th>\n",
              "      <th>BuildingArea</th>\n",
              "      <th>YearBuilt</th>\n",
              "      <th>CouncilArea</th>\n",
              "      <th>Propertycount</th>\n",
              "      <th>zipcode</th>\n",
              "      <th>price</th>\n",
              "    </tr>\n",
              "  </thead>\n",
              "  <tbody>\n",
              "    <tr>\n",
              "      <th>0</th>\n",
              "      <td>Abbotsford</td>\n",
              "      <td>2</td>\n",
              "      <td>h</td>\n",
              "      <td>1480000.0</td>\n",
              "      <td>S</td>\n",
              "      <td>Biggin</td>\n",
              "      <td>3/12/2016</td>\n",
              "      <td>3067.0</td>\n",
              "      <td>1.0</td>\n",
              "      <td>1.0</td>\n",
              "      <td>202.0</td>\n",
              "      <td>151.396995</td>\n",
              "      <td>1964.986491</td>\n",
              "      <td>Yarra</td>\n",
              "      <td>4019.0</td>\n",
              "      <td>3067.0</td>\n",
              "      <td>130.624031</td>\n",
              "    </tr>\n",
              "    <tr>\n",
              "      <th>1</th>\n",
              "      <td>Abbotsford</td>\n",
              "      <td>2</td>\n",
              "      <td>h</td>\n",
              "      <td>1035000.0</td>\n",
              "      <td>S</td>\n",
              "      <td>Biggin</td>\n",
              "      <td>4/02/2016</td>\n",
              "      <td>3067.0</td>\n",
              "      <td>1.0</td>\n",
              "      <td>0.0</td>\n",
              "      <td>156.0</td>\n",
              "      <td>79.000000</td>\n",
              "      <td>1900.000000</td>\n",
              "      <td>Yarra</td>\n",
              "      <td>4019.0</td>\n",
              "      <td>3067.0</td>\n",
              "      <td>130.624031</td>\n",
              "    </tr>\n",
              "    <tr>\n",
              "      <th>2</th>\n",
              "      <td>Abbotsford</td>\n",
              "      <td>3</td>\n",
              "      <td>h</td>\n",
              "      <td>1465000.0</td>\n",
              "      <td>SP</td>\n",
              "      <td>Biggin</td>\n",
              "      <td>4/03/2017</td>\n",
              "      <td>3067.0</td>\n",
              "      <td>2.0</td>\n",
              "      <td>0.0</td>\n",
              "      <td>134.0</td>\n",
              "      <td>150.000000</td>\n",
              "      <td>1900.000000</td>\n",
              "      <td>Yarra</td>\n",
              "      <td>4019.0</td>\n",
              "      <td>3067.0</td>\n",
              "      <td>130.624031</td>\n",
              "    </tr>\n",
              "  </tbody>\n",
              "</table>\n",
              "</div>"
            ],
            "text/plain": [
              "       Suburb  Rooms Type  ...  Propertycount zipcode       price\n",
              "0  Abbotsford      2    h  ...         4019.0  3067.0  130.624031\n",
              "1  Abbotsford      2    h  ...         4019.0  3067.0  130.624031\n",
              "2  Abbotsford      3    h  ...         4019.0  3067.0  130.624031\n",
              "\n",
              "[3 rows x 17 columns]"
            ]
          },
          "metadata": {
            "tags": []
          },
          "execution_count": 152
        }
      ]
    },
    {
      "cell_type": "markdown",
      "metadata": {
        "id": "vW6f3U2ZDV_K"
      },
      "source": [
        "Se renombra la variable \"price\" (proveniente de la database de Airbnb) por \"price_airbnb\" para evitar nombres duplicados. A su vez, se descarta la variable \"zipcode\" por el mismo motivo, ya que está considerada en la variable \"Postcode\" de la database original."
      ]
    },
    {
      "cell_type": "code",
      "metadata": {
        "colab": {
          "base_uri": "https://localhost:8080/"
        },
        "id": "eo3RYltMxUIu",
        "outputId": "479bbff5-5089-4c64-b98d-93ba9f53f384"
      },
      "source": [
        "merged_sales_df.rename(columns={'price': 'price_airbnb'}, inplace=True)\n",
        "merged_sales_df.drop('zipcode', axis=1, inplace=True)\n",
        "\n",
        "merged_sales_df.isna().sum()"
      ],
      "execution_count": 153,
      "outputs": [
        {
          "output_type": "execute_result",
          "data": {
            "text/plain": [
              "Suburb              0\n",
              "Rooms               0\n",
              "Type                0\n",
              "Price               0\n",
              "Method              0\n",
              "SellerG             0\n",
              "Date                0\n",
              "Postcode            0\n",
              "Bathroom            0\n",
              "Car                 0\n",
              "Landsize            0\n",
              "BuildingArea        0\n",
              "YearBuilt           0\n",
              "CouncilArea      1304\n",
              "Propertycount       0\n",
              "price_airbnb       20\n",
              "dtype: int64"
            ]
          },
          "metadata": {
            "tags": []
          },
          "execution_count": 153
        }
      ]
    },
    {
      "cell_type": "markdown",
      "metadata": {
        "id": "vzH_wLHLypMG"
      },
      "source": [
        "Si se asume que se cuenta con la ayuda de anotadores expertos que pueden encontrar equivalencias entre barrios o direcciones, entonces se puede suponer que las bases pueden ser agregadas utilizando las variables \"Suburb\" y/o \"Neighborhood\". Además, se podrían utilizar las variables \"Longtitude\" y \"Lattitude\" para crear una nueva variable concatenada que contenga la coordenada de la propiedad. En ese caso se trataría exactamente de la misma ubicación y el mismo tipo de variable."
      ]
    },
    {
      "cell_type": "markdown",
      "metadata": {
        "id": "ismngxPcfoWb"
      },
      "source": [
        "## Ejercicio 2: Imputación\n",
        "\n",
        "1. Imputar los valores faltantes de la columna CouncilArea en base a la información presente en Suburb. (Si en el punto anterior no seleccionó ninguna de estas variables, agréguelas ahora el conjunto de datos).\n",
        "\n",
        "2. Imputar los valores faltantes de la(s) columna(s) que se agregaron a partir del conjunto de datos de AirBnB.\n",
        "\n"
      ]
    },
    {
      "cell_type": "code",
      "metadata": {
        "colab": {
          "base_uri": "https://localhost:8080/",
          "height": 142
        },
        "id": "G4ClSr_JapCw",
        "outputId": "03c25a77-0a9f-43f6-a07c-b87857b2375f"
      },
      "source": [
        "merged_sales_df.head(3)"
      ],
      "execution_count": 154,
      "outputs": [
        {
          "output_type": "execute_result",
          "data": {
            "text/html": [
              "<div>\n",
              "<style scoped>\n",
              "    .dataframe tbody tr th:only-of-type {\n",
              "        vertical-align: middle;\n",
              "    }\n",
              "\n",
              "    .dataframe tbody tr th {\n",
              "        vertical-align: top;\n",
              "    }\n",
              "\n",
              "    .dataframe thead th {\n",
              "        text-align: right;\n",
              "    }\n",
              "</style>\n",
              "<table border=\"1\" class=\"dataframe\">\n",
              "  <thead>\n",
              "    <tr style=\"text-align: right;\">\n",
              "      <th></th>\n",
              "      <th>Suburb</th>\n",
              "      <th>Rooms</th>\n",
              "      <th>Type</th>\n",
              "      <th>Price</th>\n",
              "      <th>Method</th>\n",
              "      <th>SellerG</th>\n",
              "      <th>Date</th>\n",
              "      <th>Postcode</th>\n",
              "      <th>Bathroom</th>\n",
              "      <th>Car</th>\n",
              "      <th>Landsize</th>\n",
              "      <th>BuildingArea</th>\n",
              "      <th>YearBuilt</th>\n",
              "      <th>CouncilArea</th>\n",
              "      <th>Propertycount</th>\n",
              "      <th>price_airbnb</th>\n",
              "    </tr>\n",
              "  </thead>\n",
              "  <tbody>\n",
              "    <tr>\n",
              "      <th>0</th>\n",
              "      <td>Abbotsford</td>\n",
              "      <td>2</td>\n",
              "      <td>h</td>\n",
              "      <td>1480000.0</td>\n",
              "      <td>S</td>\n",
              "      <td>Biggin</td>\n",
              "      <td>3/12/2016</td>\n",
              "      <td>3067.0</td>\n",
              "      <td>1.0</td>\n",
              "      <td>1.0</td>\n",
              "      <td>202.0</td>\n",
              "      <td>151.396995</td>\n",
              "      <td>1964.986491</td>\n",
              "      <td>Yarra</td>\n",
              "      <td>4019.0</td>\n",
              "      <td>130.624031</td>\n",
              "    </tr>\n",
              "    <tr>\n",
              "      <th>1</th>\n",
              "      <td>Abbotsford</td>\n",
              "      <td>2</td>\n",
              "      <td>h</td>\n",
              "      <td>1035000.0</td>\n",
              "      <td>S</td>\n",
              "      <td>Biggin</td>\n",
              "      <td>4/02/2016</td>\n",
              "      <td>3067.0</td>\n",
              "      <td>1.0</td>\n",
              "      <td>0.0</td>\n",
              "      <td>156.0</td>\n",
              "      <td>79.000000</td>\n",
              "      <td>1900.000000</td>\n",
              "      <td>Yarra</td>\n",
              "      <td>4019.0</td>\n",
              "      <td>130.624031</td>\n",
              "    </tr>\n",
              "    <tr>\n",
              "      <th>2</th>\n",
              "      <td>Abbotsford</td>\n",
              "      <td>3</td>\n",
              "      <td>h</td>\n",
              "      <td>1465000.0</td>\n",
              "      <td>SP</td>\n",
              "      <td>Biggin</td>\n",
              "      <td>4/03/2017</td>\n",
              "      <td>3067.0</td>\n",
              "      <td>2.0</td>\n",
              "      <td>0.0</td>\n",
              "      <td>134.0</td>\n",
              "      <td>150.000000</td>\n",
              "      <td>1900.000000</td>\n",
              "      <td>Yarra</td>\n",
              "      <td>4019.0</td>\n",
              "      <td>130.624031</td>\n",
              "    </tr>\n",
              "  </tbody>\n",
              "</table>\n",
              "</div>"
            ],
            "text/plain": [
              "       Suburb  Rooms Type  ...  CouncilArea Propertycount price_airbnb\n",
              "0  Abbotsford      2    h  ...        Yarra        4019.0   130.624031\n",
              "1  Abbotsford      2    h  ...        Yarra        4019.0   130.624031\n",
              "2  Abbotsford      3    h  ...        Yarra        4019.0   130.624031\n",
              "\n",
              "[3 rows x 16 columns]"
            ]
          },
          "metadata": {
            "tags": []
          },
          "execution_count": 154
        }
      ]
    },
    {
      "cell_type": "code",
      "metadata": {
        "colab": {
          "base_uri": "https://localhost:8080/",
          "height": 504
        },
        "id": "YE9j5kTWzI6E",
        "outputId": "87be336e-24ac-46b1-909a-40794b97edd5"
      },
      "source": [
        "msno.bar(merged_sales_df,figsize=(12, 6), fontsize=12, color='steelblue')"
      ],
      "execution_count": 155,
      "outputs": [
        {
          "output_type": "execute_result",
          "data": {
            "text/plain": [
              "<matplotlib.axes._subplots.AxesSubplot at 0x7f5a9a2ffd10>"
            ]
          },
          "metadata": {
            "tags": []
          },
          "execution_count": 155
        },
        {
          "output_type": "display_data",
          "data": {
            "image/png": "[encoded data removed]",
            "text/plain": [
              "<Figure size 864x432 with 3 Axes>"
            ]
          },
          "metadata": {
            "tags": [],
            "needs_background": "light"
          }
        }
      ]
    },
    {
      "cell_type": "markdown",
      "metadata": {
        "id": "pTqSppDxDV_M"
      },
      "source": [
        "La variable \"CouncilArea\" es la que posee valores faltantes. Dado esto, se imputarán valores empleando *CategoricalImputer* de *sklearn*. Otra opción para hacer esto, sería la de imputar valores en base a la información presente en la variable \"Suburb\", suponiendo que el nombre del barrio es igual al nombre del municipio."
      ]
    },
    {
      "cell_type": "code",
      "metadata": {
        "colab": {
          "base_uri": "https://localhost:8080/",
          "height": 203
        },
        "id": "7XcyCSne3hmR",
        "outputId": "620a6787-bd9e-43f3-8627-e9e37faa6a7e"
      },
      "source": [
        "from sklearn_pandas import CategoricalImputer\n",
        "\n",
        "imputer = CategoricalImputer()\n",
        "merged_sales_df['CouncilArea']=imputer.fit_transform(merged_sales_df['CouncilArea'])\n",
        "\n",
        "merged_sales_df.head()"
      ],
      "execution_count": 156,
      "outputs": [
        {
          "output_type": "execute_result",
          "data": {
            "text/html": [
              "<div>\n",
              "<style scoped>\n",
              "    .dataframe tbody tr th:only-of-type {\n",
              "        vertical-align: middle;\n",
              "    }\n",
              "\n",
              "    .dataframe tbody tr th {\n",
              "        vertical-align: top;\n",
              "    }\n",
              "\n",
              "    .dataframe thead th {\n",
              "        text-align: right;\n",
              "    }\n",
              "</style>\n",
              "<table border=\"1\" class=\"dataframe\">\n",
              "  <thead>\n",
              "    <tr style=\"text-align: right;\">\n",
              "      <th></th>\n",
              "      <th>Suburb</th>\n",
              "      <th>Rooms</th>\n",
              "      <th>Type</th>\n",
              "      <th>Price</th>\n",
              "      <th>Method</th>\n",
              "      <th>SellerG</th>\n",
              "      <th>Date</th>\n",
              "      <th>Postcode</th>\n",
              "      <th>Bathroom</th>\n",
              "      <th>Car</th>\n",
              "      <th>Landsize</th>\n",
              "      <th>BuildingArea</th>\n",
              "      <th>YearBuilt</th>\n",
              "      <th>CouncilArea</th>\n",
              "      <th>Propertycount</th>\n",
              "      <th>price_airbnb</th>\n",
              "    </tr>\n",
              "  </thead>\n",
              "  <tbody>\n",
              "    <tr>\n",
              "      <th>0</th>\n",
              "      <td>Abbotsford</td>\n",
              "      <td>2</td>\n",
              "      <td>h</td>\n",
              "      <td>1480000.0</td>\n",
              "      <td>S</td>\n",
              "      <td>Biggin</td>\n",
              "      <td>3/12/2016</td>\n",
              "      <td>3067.0</td>\n",
              "      <td>1.0</td>\n",
              "      <td>1.0</td>\n",
              "      <td>202.0</td>\n",
              "      <td>151.396995</td>\n",
              "      <td>1964.986491</td>\n",
              "      <td>Yarra</td>\n",
              "      <td>4019.0</td>\n",
              "      <td>130.624031</td>\n",
              "    </tr>\n",
              "    <tr>\n",
              "      <th>1</th>\n",
              "      <td>Abbotsford</td>\n",
              "      <td>2</td>\n",
              "      <td>h</td>\n",
              "      <td>1035000.0</td>\n",
              "      <td>S</td>\n",
              "      <td>Biggin</td>\n",
              "      <td>4/02/2016</td>\n",
              "      <td>3067.0</td>\n",
              "      <td>1.0</td>\n",
              "      <td>0.0</td>\n",
              "      <td>156.0</td>\n",
              "      <td>79.000000</td>\n",
              "      <td>1900.000000</td>\n",
              "      <td>Yarra</td>\n",
              "      <td>4019.0</td>\n",
              "      <td>130.624031</td>\n",
              "    </tr>\n",
              "    <tr>\n",
              "      <th>2</th>\n",
              "      <td>Abbotsford</td>\n",
              "      <td>3</td>\n",
              "      <td>h</td>\n",
              "      <td>1465000.0</td>\n",
              "      <td>SP</td>\n",
              "      <td>Biggin</td>\n",
              "      <td>4/03/2017</td>\n",
              "      <td>3067.0</td>\n",
              "      <td>2.0</td>\n",
              "      <td>0.0</td>\n",
              "      <td>134.0</td>\n",
              "      <td>150.000000</td>\n",
              "      <td>1900.000000</td>\n",
              "      <td>Yarra</td>\n",
              "      <td>4019.0</td>\n",
              "      <td>130.624031</td>\n",
              "    </tr>\n",
              "    <tr>\n",
              "      <th>3</th>\n",
              "      <td>Abbotsford</td>\n",
              "      <td>3</td>\n",
              "      <td>h</td>\n",
              "      <td>850000.0</td>\n",
              "      <td>PI</td>\n",
              "      <td>Biggin</td>\n",
              "      <td>4/03/2017</td>\n",
              "      <td>3067.0</td>\n",
              "      <td>2.0</td>\n",
              "      <td>1.0</td>\n",
              "      <td>94.0</td>\n",
              "      <td>151.396995</td>\n",
              "      <td>1964.986491</td>\n",
              "      <td>Yarra</td>\n",
              "      <td>4019.0</td>\n",
              "      <td>130.624031</td>\n",
              "    </tr>\n",
              "    <tr>\n",
              "      <th>4</th>\n",
              "      <td>Abbotsford</td>\n",
              "      <td>4</td>\n",
              "      <td>h</td>\n",
              "      <td>1600000.0</td>\n",
              "      <td>VB</td>\n",
              "      <td>Nelson</td>\n",
              "      <td>4/06/2016</td>\n",
              "      <td>3067.0</td>\n",
              "      <td>1.0</td>\n",
              "      <td>2.0</td>\n",
              "      <td>120.0</td>\n",
              "      <td>142.000000</td>\n",
              "      <td>2014.000000</td>\n",
              "      <td>Yarra</td>\n",
              "      <td>4019.0</td>\n",
              "      <td>130.624031</td>\n",
              "    </tr>\n",
              "  </tbody>\n",
              "</table>\n",
              "</div>"
            ],
            "text/plain": [
              "       Suburb  Rooms Type  ...  CouncilArea Propertycount price_airbnb\n",
              "0  Abbotsford      2    h  ...        Yarra        4019.0   130.624031\n",
              "1  Abbotsford      2    h  ...        Yarra        4019.0   130.624031\n",
              "2  Abbotsford      3    h  ...        Yarra        4019.0   130.624031\n",
              "3  Abbotsford      3    h  ...        Yarra        4019.0   130.624031\n",
              "4  Abbotsford      4    h  ...        Yarra        4019.0   130.624031\n",
              "\n",
              "[5 rows x 16 columns]"
            ]
          },
          "metadata": {
            "tags": []
          },
          "execution_count": 156
        }
      ]
    },
    {
      "cell_type": "code",
      "metadata": {
        "colab": {
          "base_uri": "https://localhost:8080/",
          "height": 504
        },
        "id": "DfchYPgTxvQ4",
        "outputId": "39cfe7e6-9a9c-4d24-c915-480c95b9ea95"
      },
      "source": [
        "msno.bar(merged_sales_df,figsize=(12, 6), fontsize=12, color='steelblue')"
      ],
      "execution_count": 157,
      "outputs": [
        {
          "output_type": "execute_result",
          "data": {
            "text/plain": [
              "<matplotlib.axes._subplots.AxesSubplot at 0x7f5a9a28fad0>"
            ]
          },
          "metadata": {
            "tags": []
          },
          "execution_count": 157
        },
        {
          "output_type": "display_data",
          "data": {
            "image/png": "[encoded data removed]",
            "text/plain": [
              "<Figure size 864x432 with 3 Axes>"
            ]
          },
          "metadata": {
            "tags": [],
            "needs_background": "light"
          }
        }
      ]
    },
    {
      "cell_type": "markdown",
      "metadata": {
        "id": "Tg2jy4BNWUyH"
      },
      "source": [
        "De esta manera la única columna con valores faltantes es la de \"price_airbnb\", ya que en el merge de ambos dataframes, la cantidad de Postcodes del primero era mayor al del proveniente de la database de AriBnB. Como se observa en el gráfico anterior, resta imputar 20 valores para la columna \"price_airbnb\". Esto se hará en base a la mediana de la columna \"Price\""
      ]
    },
    {
      "cell_type": "code",
      "metadata": {
        "colab": {
          "base_uri": "https://localhost:8080/",
          "height": 295
        },
        "id": "x2UxT12f5qgz",
        "outputId": "69d14eb4-32da-486a-b4f6-c5d445073b51"
      },
      "source": [
        "merged_sales_df[\"price_airbnb\"] =merged_sales_df[\"price_airbnb\"].fillna(merged_sales_df.groupby('Postcode')['Price'].transform('median'))\n",
        "merged_sales_df.describe()"
      ],
      "execution_count": 158,
      "outputs": [
        {
          "output_type": "execute_result",
          "data": {
            "text/html": [
              "<div>\n",
              "<style scoped>\n",
              "    .dataframe tbody tr th:only-of-type {\n",
              "        vertical-align: middle;\n",
              "    }\n",
              "\n",
              "    .dataframe tbody tr th {\n",
              "        vertical-align: top;\n",
              "    }\n",
              "\n",
              "    .dataframe thead th {\n",
              "        text-align: right;\n",
              "    }\n",
              "</style>\n",
              "<table border=\"1\" class=\"dataframe\">\n",
              "  <thead>\n",
              "    <tr style=\"text-align: right;\">\n",
              "      <th></th>\n",
              "      <th>Rooms</th>\n",
              "      <th>Price</th>\n",
              "      <th>Postcode</th>\n",
              "      <th>Bathroom</th>\n",
              "      <th>Car</th>\n",
              "      <th>Landsize</th>\n",
              "      <th>BuildingArea</th>\n",
              "      <th>YearBuilt</th>\n",
              "      <th>Propertycount</th>\n",
              "      <th>price_airbnb</th>\n",
              "    </tr>\n",
              "  </thead>\n",
              "  <tbody>\n",
              "    <tr>\n",
              "      <th>count</th>\n",
              "      <td>13433.000000</td>\n",
              "      <td>1.343300e+04</td>\n",
              "      <td>13433.000000</td>\n",
              "      <td>13433.000000</td>\n",
              "      <td>13433.000000</td>\n",
              "      <td>13433.000000</td>\n",
              "      <td>13433.000000</td>\n",
              "      <td>13433.000000</td>\n",
              "      <td>13433.000000</td>\n",
              "      <td>1.343300e+04</td>\n",
              "    </tr>\n",
              "    <tr>\n",
              "      <th>mean</th>\n",
              "      <td>2.939552</td>\n",
              "      <td>1.073167e+06</td>\n",
              "      <td>3105.093054</td>\n",
              "      <td>1.533090</td>\n",
              "      <td>1.603514</td>\n",
              "      <td>558.363433</td>\n",
              "      <td>149.273302</td>\n",
              "      <td>1964.894263</td>\n",
              "      <td>7452.130202</td>\n",
              "      <td>1.054578e+03</td>\n",
              "    </tr>\n",
              "    <tr>\n",
              "      <th>std</th>\n",
              "      <td>0.952838</td>\n",
              "      <td>6.371523e+05</td>\n",
              "      <td>90.489268</td>\n",
              "      <td>0.673873</td>\n",
              "      <td>0.925867</td>\n",
              "      <td>4010.632472</td>\n",
              "      <td>393.624619</td>\n",
              "      <td>28.433441</td>\n",
              "      <td>4382.781112</td>\n",
              "      <td>2.525129e+04</td>\n",
              "    </tr>\n",
              "    <tr>\n",
              "      <th>min</th>\n",
              "      <td>1.000000</td>\n",
              "      <td>8.500000e+04</td>\n",
              "      <td>3000.000000</td>\n",
              "      <td>1.000000</td>\n",
              "      <td>0.000000</td>\n",
              "      <td>0.000000</td>\n",
              "      <td>0.000000</td>\n",
              "      <td>1830.000000</td>\n",
              "      <td>249.000000</td>\n",
              "      <td>4.000000e+01</td>\n",
              "    </tr>\n",
              "    <tr>\n",
              "      <th>25%</th>\n",
              "      <td>2.000000</td>\n",
              "      <td>6.500000e+05</td>\n",
              "      <td>3044.000000</td>\n",
              "      <td>1.000000</td>\n",
              "      <td>1.000000</td>\n",
              "      <td>178.000000</td>\n",
              "      <td>111.000000</td>\n",
              "      <td>1960.000000</td>\n",
              "      <td>4380.000000</td>\n",
              "      <td>9.467265e+01</td>\n",
              "    </tr>\n",
              "    <tr>\n",
              "      <th>50%</th>\n",
              "      <td>3.000000</td>\n",
              "      <td>9.000000e+05</td>\n",
              "      <td>3084.000000</td>\n",
              "      <td>1.000000</td>\n",
              "      <td>2.000000</td>\n",
              "      <td>442.000000</td>\n",
              "      <td>151.396995</td>\n",
              "      <td>1964.986491</td>\n",
              "      <td>6543.000000</td>\n",
              "      <td>1.146125e+02</td>\n",
              "    </tr>\n",
              "    <tr>\n",
              "      <th>75%</th>\n",
              "      <td>3.000000</td>\n",
              "      <td>1.326000e+06</td>\n",
              "      <td>3148.000000</td>\n",
              "      <td>2.000000</td>\n",
              "      <td>2.000000</td>\n",
              "      <td>651.000000</td>\n",
              "      <td>151.396995</td>\n",
              "      <td>1975.000000</td>\n",
              "      <td>10331.000000</td>\n",
              "      <td>1.477295e+02</td>\n",
              "    </tr>\n",
              "    <tr>\n",
              "      <th>max</th>\n",
              "      <td>8.000000</td>\n",
              "      <td>9.000000e+06</td>\n",
              "      <td>3977.000000</td>\n",
              "      <td>7.000000</td>\n",
              "      <td>6.000000</td>\n",
              "      <td>433014.000000</td>\n",
              "      <td>44515.000000</td>\n",
              "      <td>2017.000000</td>\n",
              "      <td>21650.000000</td>\n",
              "      <td>1.355000e+06</td>\n",
              "    </tr>\n",
              "  </tbody>\n",
              "</table>\n",
              "</div>"
            ],
            "text/plain": [
              "              Rooms         Price  ...  Propertycount  price_airbnb\n",
              "count  13433.000000  1.343300e+04  ...   13433.000000  1.343300e+04\n",
              "mean       2.939552  1.073167e+06  ...    7452.130202  1.054578e+03\n",
              "std        0.952838  6.371523e+05  ...    4382.781112  2.525129e+04\n",
              "min        1.000000  8.500000e+04  ...     249.000000  4.000000e+01\n",
              "25%        2.000000  6.500000e+05  ...    4380.000000  9.467265e+01\n",
              "50%        3.000000  9.000000e+05  ...    6543.000000  1.146125e+02\n",
              "75%        3.000000  1.326000e+06  ...   10331.000000  1.477295e+02\n",
              "max        8.000000  9.000000e+06  ...   21650.000000  1.355000e+06\n",
              "\n",
              "[8 rows x 10 columns]"
            ]
          },
          "metadata": {
            "tags": []
          },
          "execution_count": 158
        }
      ]
    },
    {
      "cell_type": "markdown",
      "metadata": {
        "id": "0p_qcnfEXlqJ"
      },
      "source": [
        "Se chequea gráficamente que no queden valores por imputar:"
      ]
    },
    {
      "cell_type": "code",
      "metadata": {
        "colab": {
          "base_uri": "https://localhost:8080/",
          "height": 504
        },
        "id": "glMuHE4uXo5q",
        "outputId": "1d7fd9de-3011-42d0-e4e6-7eaf4ff9508f"
      },
      "source": [
        "msno.bar(merged_sales_df,figsize=(12, 6), fontsize=12, color='steelblue')"
      ],
      "execution_count": 159,
      "outputs": [
        {
          "output_type": "execute_result",
          "data": {
            "text/plain": [
              "<matplotlib.axes._subplots.AxesSubplot at 0x7f5a99fa0550>"
            ]
          },
          "metadata": {
            "tags": []
          },
          "execution_count": 159
        },
        {
          "output_type": "display_data",
          "data": {
            "image/png": "[encoded data removed]",
            "text/plain": [
              "<Figure size 864x432 with 3 Axes>"
            ]
          },
          "metadata": {
            "tags": [],
            "needs_background": "light"
          }
        }
      ]
    },
    {
      "cell_type": "markdown",
      "metadata": {
        "id": "NBN7-5OIxjJW"
      },
      "source": [
        "## Ejercicio 3\n",
        "\n",
        "Crear y guardar un nuevo conjunto de datos con todas las transformaciones realizadas anteriormente."
      ]
    },
    {
      "cell_type": "code",
      "metadata": {
        "id": "Mv0VZhTXDV_N"
      },
      "source": [
        "melbourn_housing = merged_sales_df.copy()"
      ],
      "execution_count": 161,
      "outputs": []
    },
    {
      "cell_type": "code",
      "metadata": {
        "colab": {
          "base_uri": "https://localhost:8080/",
          "height": 17
        },
        "id": "GAAkdpA788Tt",
        "outputId": "8c1e3715-b436-4064-9ea6-4aa657e6aced"
      },
      "source": [
        "from google.colab import files\n",
        "melbourn_housing.to_csv('melbourn_housing.csv') \n",
        "files.download('melbourn_housing.csv')"
      ],
      "execution_count": 163,
      "outputs": [
        {
          "output_type": "display_data",
          "data": {
            "application/javascript": [
              "\n",
              "    async function download(id, filename, size) {\n",
              "      if (!google.colab.kernel.accessAllowed) {\n",
              "        return;\n",
              "      }\n",
              "      const div = document.createElement('div');\n",
              "      const label = document.createElement('label');\n",
              "      label.textContent = `Downloading \"${filename}\": `;\n",
              "      div.appendChild(label);\n",
              "      const progress = document.createElement('progress');\n",
              "      progress.max = size;\n",
              "      div.appendChild(progress);\n",
              "      document.body.appendChild(div);\n",
              "\n",
              "      const buffers = [];\n",
              "      let downloaded = 0;\n",
              "\n",
              "      const channel = await google.colab.kernel.comms.open(id);\n",
              "      // Send a message to notify the kernel that we're ready.\n",
              "      channel.send({})\n",
              "\n",
              "      for await (const message of channel.messages) {\n",
              "        // Send a message to notify the kernel that we're ready.\n",
              "        channel.send({})\n",
              "        if (message.buffers) {\n",
              "          for (const buffer of message.buffers) {\n",
              "            buffers.push(buffer);\n",
              "            downloaded += buffer.byteLength;\n",
              "            progress.value = downloaded;\n",
              "          }\n",
              "        }\n",
              "      }\n",
              "      const blob = new Blob(buffers, {type: 'application/binary'});\n",
              "      const a = document.createElement('a');\n",
              "      a.href = window.URL.createObjectURL(blob);\n",
              "      a.download = filename;\n",
              "      div.appendChild(a);\n",
              "      a.click();\n",
              "      div.remove();\n",
              "    }\n",
              "  "
            ],
            "text/plain": [
              "<IPython.core.display.Javascript object>"
            ]
          },
          "metadata": {
            "tags": []
          }
        },
        {
          "output_type": "display_data",
          "data": {
            "application/javascript": [
              "download(\"download_621de183-068b-47c1-9a7d-d8c64ee1fb45\", \"melbourn_housing.csv\", 1703770)"
            ],
            "text/plain": [
              "<IPython.core.display.Javascript object>"
            ]
          },
          "metadata": {
            "tags": []
          }
        }
      ]
    }
  ]
}